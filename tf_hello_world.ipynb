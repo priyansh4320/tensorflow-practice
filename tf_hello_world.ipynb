{
  "nbformat": 4,
  "nbformat_minor": 0,
  "metadata": {
    "colab": {
      "provenance": [],
      "authorship_tag": "ABX9TyMB32Lx3GMJM5M516OpQk4r",
      "include_colab_link": true
    },
    "kernelspec": {
      "name": "python3",
      "display_name": "Python 3"
    },
    "language_info": {
      "name": "python"
    }
  },
  "cells": [
    {
      "cell_type": "markdown",
      "metadata": {
        "id": "view-in-github",
        "colab_type": "text"
      },
      "source": [
        "<a href=\"https://colab.research.google.com/github/priyansh4320/tensorflow-practice/blob/main/tf_hello_world.ipynb\" target=\"_parent\"><img src=\"https://colab.research.google.com/assets/colab-badge.svg\" alt=\"Open In Colab\"/></a>"
      ]
    },
    {
      "cell_type": "markdown",
      "source": [
        "# Tensorflow hello world\n",
        "\n",
        "\n",
        "*   variable\n",
        "*   opration\n",
        "\n",
        "\n",
        "*   tensor\n",
        "*   constant\n",
        "\n",
        "\n",
        "\n",
        "\n"
      ],
      "metadata": {
        "id": "TbAXGLgpVu9v"
      }
    },
    {
      "cell_type": "code",
      "execution_count": 2,
      "metadata": {
        "id": "GeoRzzJOVnMy"
      },
      "outputs": [],
      "source": [
        "import tensorflow as tf"
      ]
    },
    {
      "cell_type": "code",
      "source": [
        "# constants add a tf.opration to default graph and create a tensor\n",
        "a = tf.constant([2],name = 'const_a')   #add tf.opration 'constant_a' to graph and create tensor named \"constant_a:0\"\n",
        "b = tf.constant([3],name = 'const_b')   #add tf.opration 'constant_b' to graph and create tensor named \"constant_b:0\""
      ],
      "metadata": {
        "id": "sqyVRU9JWnsE"
      },
      "execution_count": 4,
      "outputs": []
    },
    {
      "cell_type": "code",
      "source": [
        "print(\"constant a: \",a,\"\\n\",\"constant b: \",b)"
      ],
      "metadata": {
        "colab": {
          "base_uri": "https://localhost:8080/"
        },
        "id": "BKAPMtUgXcHz",
        "outputId": "dbbb2d0d-1737-47bc-ed7c-79dc685d20d9"
      },
      "execution_count": 8,
      "outputs": [
        {
          "output_type": "stream",
          "name": "stdout",
          "text": [
            "constant a:  tf.Tensor([2], shape=(1,), dtype=int32) \n",
            " constant b:  tf.Tensor([3], shape=(1,), dtype=int32)\n"
          ]
        }
      ]
    },
    {
      "cell_type": "code",
      "source": [
        "print(a.shape,b.shape) #.shape gives shape of tensor"
      ],
      "metadata": {
        "colab": {
          "base_uri": "https://localhost:8080/"
        },
        "id": "KcnGI_lrXq7G",
        "outputId": "fc89be4e-4f34-4497-c0f2-9daa7a9719ea"
      },
      "execution_count": 9,
      "outputs": [
        {
          "output_type": "stream",
          "name": "stdout",
          "text": [
            "(1,) (1,)\n"
          ]
        }
      ]
    },
    {
      "cell_type": "code",
      "source": [
        "print(a.numpy()[0]) #tensor is a numpy array with multi-dimension , so access value like this"
      ],
      "metadata": {
        "colab": {
          "base_uri": "https://localhost:8080/"
        },
        "id": "fWyQSnYSX2LA",
        "outputId": "ce3e9de6-c0af-4ca4-cdb6-1f17772d9d35"
      },
      "execution_count": 11,
      "outputs": [
        {
          "output_type": "stream",
          "name": "stdout",
          "text": [
            "2\n"
          ]
        }
      ]
    },
    {
      "cell_type": "markdown",
      "source": [
        "# @tf.function\n",
        "this let's you create a  static tensorflow function to perform tensorflow oprations\n"
      ],
      "metadata": {
        "id": "VEbhjaOsYU1l"
      }
    },
    {
      "cell_type": "code",
      "source": [
        "@tf.function\n",
        "def add_ab(a,b):\n",
        "  c = tf.add(a,b)\n",
        "  return c\n",
        "\n",
        "addition = add_ab(a,b) #previously defined contants\n",
        "print(addition.numpy()[0]) #output is a tensor / numpy array"
      ],
      "metadata": {
        "colab": {
          "base_uri": "https://localhost:8080/"
        },
        "id": "jWatWTKsYKEI",
        "outputId": "eb06f079-1972-498b-e561-cb935495529d"
      },
      "execution_count": 16,
      "outputs": [
        {
          "output_type": "stream",
          "name": "stdout",
          "text": [
            "5\n"
          ]
        }
      ]
    },
    {
      "cell_type": "code",
      "source": [
        "# we can also print addition using tf\n",
        "tf.print(addition[0]) #here we don't need to call numpy() method"
      ],
      "metadata": {
        "colab": {
          "base_uri": "https://localhost:8080/"
        },
        "id": "OPSQ6HNsZHwt",
        "outputId": "f8f0f7bc-0d81-48d7-8feb-d8842bb53d43"
      },
      "execution_count": 17,
      "outputs": [
        {
          "output_type": "stream",
          "name": "stdout",
          "text": [
            "5\n"
          ]
        }
      ]
    },
    {
      "cell_type": "markdown",
      "source": [
        "\n",
        "\n",
        "1.   scaler values : single numbers\n",
        "2.   vectors       : 1D array\n",
        "\n",
        "\n",
        "1.   matrix         : 2D array\n",
        "2.   tensor         : multi- D array eg.3D\n",
        "\n",
        "\n",
        "\n",
        "\n"
      ],
      "metadata": {
        "id": "s5-2D_z_lLZb"
      }
    },
    {
      "cell_type": "code",
      "source": [
        "scaler = tf.constant(2, name='scaler')\n",
        "vector = tf.constant([2,3,4],name=\"vactor\")\n",
        "matrix = tf.constant([[2,3,4],[2,5,6],[1,2,3]], name= \"matrix\")\n",
        "tensor = tf.constant([[[2,3,4],[2,5,6],[1,2,3]],[[1,2,3],[3,4,5],[6,7,8]],[[1,3,2],[2,3,4],[4,5,6]]],name='tensor')\n",
        "\n",
        "tf.print(\"\\nscaler:\", scaler)\n",
        "tf.print(\"\\nvector:\", vector)\n",
        "tf.print(\"\\nmatrix:\", matrix)\n",
        "tf.print(\"\\ntensor:\", tensor)\n"
      ],
      "metadata": {
        "colab": {
          "base_uri": "https://localhost:8080/"
        },
        "id": "a9Vlucx1Zei2",
        "outputId": "5d9ea720-02b9-499c-eb8b-2d6baf4bacbe"
      },
      "execution_count": 19,
      "outputs": [
        {
          "output_type": "stream",
          "name": "stdout",
          "text": [
            "\n",
            "scaler: 2\n",
            "\n",
            "vector: [2 3 4]\n",
            "\n",
            "matrix: [[2 3 4]\n",
            " [2 5 6]\n",
            " [1 2 3]]\n",
            "\n",
            "tensor: [[[2 3 4]\n",
            "  [2 5 6]\n",
            "  [1 2 3]]\n",
            "\n",
            " [[1 2 3]\n",
            "  [3 4 5]\n",
            "  [6 7 8]]\n",
            "\n",
            " [[1 3 2]\n",
            "  [2 3 4]\n",
            "  [4 5 6]]]\n"
          ]
        }
      ]
    },
    {
      "cell_type": "code",
      "source": [
        "tf.print(scaler.shape, vector.shape,matrix.shape,tensor.shape)"
      ],
      "metadata": {
        "colab": {
          "base_uri": "https://localhost:8080/"
        },
        "id": "KcjYf0Xrm0dR",
        "outputId": "ec235bc4-28c0-4359-b465-ad7f2aa54a12"
      },
      "execution_count": 20,
      "outputs": [
        {
          "output_type": "stream",
          "name": "stdout",
          "text": [
            "TensorShape([]) TensorShape([3]) TensorShape([3, 3]) TensorShape([3, 3, 3])\n"
          ]
        }
      ]
    },
    {
      "cell_type": "code",
      "source": [
        "#playground\n",
        "\n",
        "Matrix_one = tf.constant([[1,2,3],[2,3,4],[3,4,5]])\n",
        "Matrix_two = tf.constant([[2,2,2],[2,2,2],[2,2,2]]) #define two matrix\n",
        "\n",
        "@tf.function\n",
        "def mathmul(a,b):\n",
        "  c = tf.matmul(a,b)\n",
        "  return c\n",
        "\n",
        "@tf.function\n",
        "def add_ab(a,b):\n",
        "  return tf.add(a,b)\n",
        "\n",
        "\n",
        "tf.print(\"matrix addition: \\n\", add_ab(Matrix_one,Matrix_two))\n",
        "tf.print(\"matrix multiplication: \\n\", mathmul(Matrix_one,Matrix_two))"
      ],
      "metadata": {
        "colab": {
          "base_uri": "https://localhost:8080/"
        },
        "id": "oP-Uub03nCFV",
        "outputId": "5ed964e7-747d-45db-dc69-7f6174cde88c"
      },
      "execution_count": 23,
      "outputs": [
        {
          "output_type": "stream",
          "name": "stdout",
          "text": [
            "matrix addition: \n",
            " [[3 4 5]\n",
            " [4 5 6]\n",
            " [5 6 7]]\n",
            "matrix multiplication: \n",
            " [[12 12 12]\n",
            " [18 18 18]\n",
            " [24 24 24]]\n"
          ]
        }
      ]
    },
    {
      "cell_type": "markdown",
      "source": [
        "# TF oprations\n",
        "oprations are node that are added to the tensorflow graph\n",
        "\n",
        "some oprations are\n",
        "\n",
        "\n",
        "1.   tf.constant() : create a tensor\n",
        "2.   tf.add()      : add tensors\n",
        "3.   tf.subtract() : subtract tensors\n",
        "4.   tf.matmul()   : perform tensor multiplication\n",
        "5.   tf.divide()   : perform tensor division\n",
        "6.   tf.reshape()  : reshape a tensor\n"
      ],
      "metadata": {
        "id": "gJH1FXxOpEjP"
      }
    },
    {
      "cell_type": "code",
      "source": [
        "\n",
        "m1 = tf.constant([[1,2,3],[2,3,4],[3,4,5]])\n",
        "m2 = tf.constant([[2,2,2],[2,2,2],[2,2,2]])\n",
        "\n",
        "tf.print(\"\\nadd\\n\",tf.add(m1,m2))\n",
        "tf.print(\"\\nmultiply\\n\",tf.matmul(m1,m2))\n",
        "tf.print(\"\\nsub\\n\",tf.subtract(m1,m2))\n",
        "tf.print(\"\\ndivide\\n\",tf.divide(m1,m2))\n",
        "c = tf.reshape(m1,[9])\n",
        "tf.print(\"\\nm1  :\\n\",m1.shape,\"\\nc  :\\n\",c,\"\\nc shape :\\n\",c.shape)"
      ],
      "metadata": {
        "colab": {
          "base_uri": "https://localhost:8080/"
        },
        "id": "pKizozMNoLy8",
        "outputId": "f3f16358-0af8-44f6-d00c-e1ca08767b90"
      },
      "execution_count": 32,
      "outputs": [
        {
          "output_type": "stream",
          "name": "stdout",
          "text": [
            "\n",
            "add\n",
            " [[3 4 5]\n",
            " [4 5 6]\n",
            " [5 6 7]]\n",
            "\n",
            "multiply\n",
            " [[12 12 12]\n",
            " [18 18 18]\n",
            " [24 24 24]]\n",
            "\n",
            "sub\n",
            " [[-1 0 1]\n",
            " [0 1 2]\n",
            " [1 2 3]]\n",
            "\n",
            "divide\n",
            " [[0.5 1 1.5]\n",
            " [1 1.5 2]\n",
            " [1.5 2 2.5]]\n",
            "\n",
            "m1  :\n",
            " TensorShape([3, 3]) \n",
            "c  :\n",
            " [1 2 3 ... 3 4 5] \n",
            "c shape :\n",
            " TensorShape([9])\n"
          ]
        }
      ]
    }
  ]
}