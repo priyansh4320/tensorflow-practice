{
  "cells": [
    {
      "cell_type": "markdown",
      "metadata": {
        "id": "view-in-github",
        "colab_type": "text"
      },
      "source": [
        "<a href=\"https://colab.research.google.com/github/priyansh4320/tensorflow-practice/blob/main/tensorflow%20labs/ML0120EN_2_2_Review_CNN_MNIST_Dataset.ipynb\" target=\"_parent\"><img src=\"https://colab.research.google.com/assets/colab-badge.svg\" alt=\"Open In Colab\"/></a>"
      ]
    },
    {
      "cell_type": "markdown",
      "metadata": {
        "id": "1e5d9366-3e12-4cca-a43e-22e181bd03ca"
      },
      "source": [
        "<img src=\"https://cf-courses-data.s3.us.cloud-object-storage.appdomain.cloud/IBMDeveloperSkillsNetwork-DL0120EN-SkillsNetwork/images/IDSN-logo.png\" width=\"300\" alt=\"cognitiveclass.ai logo\">\n",
        "\n",
        "<h1 align=\"center\"><font size=\"5\">CONVOLUTIONAL NEURAL NETWORK APPLICATION</font></h1>\n"
      ]
    },
    {
      "cell_type": "markdown",
      "metadata": {
        "id": "247b3abb-0631-47b0-9155-81f17787fe07"
      },
      "source": [
        "<h2>Introduction</h2>\n"
      ]
    },
    {
      "cell_type": "markdown",
      "metadata": {
        "id": "f54727ae-5d80-45c7-a56b-507167e78e92"
      },
      "source": [
        "Estimated time needed: **25** minutes\n"
      ]
    },
    {
      "cell_type": "markdown",
      "metadata": {
        "id": "a3e77458-6b16-4379-bfdb-db23085df333"
      },
      "source": [
        "In this section, we will use the famous [MNIST Dataset](http://yann.lecun.com/exdb/mnist/?utm_medium=Exinfluencer&utm_source=Exinfluencer&utm_content=000026UJ&utm_term=10006555&utm_id=NA-SkillsNetwork-Channel-SkillsNetworkCoursesIBMDeveloperSkillsNetworkDL0120ENSkillsNetwork954-2023-01-01) to build two Neural Networks capable to perform handwritten digits classification. The first Network is a simple Multi-layer Perceptron (MLP) and the second one is a Convolutional Neural Network (CNN from now on). In other words, when given an input our algorithm will say, with some associated error, what type of digit this input represents.\n"
      ]
    },
    {
      "cell_type": "markdown",
      "metadata": {
        "id": "d0de7d62-161a-4ee8-a9fc-79aeab7f2436"
      },
      "source": [
        "---\n"
      ]
    },
    {
      "cell_type": "markdown",
      "metadata": {
        "id": "7297ae44-bd3c-43c1-ae5e-05600f05e030"
      },
      "source": [
        "\n",
        "<div class=\"alert alert-block alert-info\" style=\"margin-top: 20px\">\n",
        "<font size = 3><strong>Click on the links to go to the following sections:</strong></font>\n",
        "<br>\n",
        "<h2>Table of Contents</h2>\n",
        "<ol>\n",
        "    <li><a href=\"#ref1\">What is Deep Learning</a></li>\n",
        "    <li><a href=\"#ref2\">Simple test: Is TensorFlow working?</a></li>\n",
        "    <li><a href=\"#ref3\">1st part: classify MNIST using a simple model</a></li>\n",
        "    <li><a href=\"#ref4\">Evaluating the final result</a></li>\n",
        "    <li><a href=\"#ref5\">How to improve our model?</a></li>\n",
        "    <li><a href=\"#ref6\">2nd part: Deep Learning applied on MNIST</a></li>\n",
        "    <li><a href=\"#ref7\">Summary of the Deep Convolutional Neural Network</a></li>\n",
        "    <li><a href=\"#ref8\">Define functions and train the model</a></li>\n",
        "    <li><a href=\"#ref9\">Evaluate the model</a></li>\n",
        "</ol>    \n",
        "</div>\n"
      ]
    },
    {
      "cell_type": "markdown",
      "metadata": {
        "id": "f5142036-5ed2-4adb-9dcc-9715798dc068"
      },
      "source": [
        "<hr>\n"
      ]
    },
    {
      "cell_type": "markdown",
      "metadata": {
        "id": "109f178c-c30d-414f-be12-91a18e7c5494"
      },
      "source": [
        "<a id=\"ref1\"></a>\n",
        "<h2>What is Deep Learning?</h2>\n"
      ]
    },
    {
      "cell_type": "markdown",
      "metadata": {
        "id": "a489fda4-9985-475a-9d78-9f449d79cdf6"
      },
      "source": [
        "<b>Brief Theory:</b> Deep learning (also known as deep structured learning, hierarchical learning or deep machine learning) is a branch of machine learning based on a set of algorithms that attempt to model high-level abstractions in data by using multiple processing layers, with complex structures or otherwise, composed of multiple non-linear transformations.\n"
      ]
    },
    {
      "cell_type": "markdown",
      "metadata": {
        "id": "4cba36e3-43d2-42da-a989-9f2ba8067dde"
      },
      "source": [
        "<img src=\"https://ibm.box.com/shared/static/gcbbrh440604cj2nksu3f44be87b8ank.png\" alt=\"HTML5 Icon\" style=\"width: 600px; height: 450px;\">\n",
        "<div style=\"text-align: center\">It's time for deep learning. Our brain doesn't work with only one or three layers. Why it would be different with machines?. </div>\n"
      ]
    },
    {
      "cell_type": "markdown",
      "metadata": {
        "id": "8808822b-d99e-4659-92de-86c924d4de70"
      },
      "source": [
        "<b>In Practice, defining the term \"Deep\":</b> in this context, deep means that we are studying a Neural Network which has several hidden layers (more than one), no matter what type (convolutional, pooling, normalization, fully-connected etc). The most interesting part is that some papers noticed that Deep Neural Networks with the right architectures/hyper-parameters achieve better results than shallow Neural Networks with the same computational power (e.g. number of neurons or connections).\n"
      ]
    },
    {
      "cell_type": "markdown",
      "metadata": {
        "id": "764d5780-ce2d-421b-a62e-97ff56f84c86"
      },
      "source": [
        "<b>In Practice, defining \"Learning\":</b> In the context of supervised learning, digits recognition in our case, the learning part consists of a target/feature which is to be predicted using a given set of observations with the already known final prediction (label). In our case, the target will be the digit (0, 1, 2, 3, 4, 5, 6, 7, 8, 9) and the observations are the intensity and relative position of the pixels. After some training, it is possible to generate a \"function\" that map inputs (digit image) to desired outputs(type of digit). The only problem is how well this map operation occurs. While trying to generate this \"function\", the training process continues until the model achieves a desired level of accuracy on the training data.\n"
      ]
    },
    {
      "cell_type": "markdown",
      "metadata": {
        "id": "14ef185a-d959-4c03-820c-785e4df3a34f"
      },
      "source": [
        "<hr>\n"
      ]
    },
    {
      "cell_type": "markdown",
      "metadata": {
        "id": "81614a9a-f66e-44ee-8120-0061b8d0c376"
      },
      "source": [
        "<h2>Installing TensorFlow </h2>\n",
        "\n",
        "We begin by installing TensorFlow version 2.9.0 and its required prerequistes.\n"
      ]
    },
    {
      "cell_type": "code",
      "metadata": {
        "id": "030b69cd-353e-4ba0-8ec5-22a1d1d28610"
      },
      "outputs": [],
      "source": [
        "!pip install grpcio==1.24.3\n",
        "!pip install tensorflow==2.9.0"
      ],
      "execution_count": null
    },
    {
      "cell_type": "markdown",
      "metadata": {
        "id": "8b9ca8f9-090e-488e-9ec8-734255175249"
      },
      "source": [
        "<b>Notice:</b> This notebook has been created with TensorFlow version 2.9.0, and might not work with other versions. Therefore we check:\n"
      ]
    },
    {
      "cell_type": "code",
      "metadata": {
        "colab": {
          "base_uri": "https://localhost:8080/",
          "height": 109
        },
        "id": "8f9f3040-9bde-4c66-a752-ec0394789989",
        "outputId": "1dda843a-4338-47b0-fdea-8d4d08dbedb1"
      },
      "outputs": [
        {
          "output_type": "display_data",
          "data": {
            "text/plain": [
              "<IPython.core.display.Markdown object>"
            ],
            "text/markdown": "# <span style=\"color:red\"><<<<<!!!!! ERROR !!!! please upgrade to TensorFlow 2.9.0, or restart your Kernel (Kernel->Restart & Clear Output)>>>>></span>"
          },
          "metadata": {}
        }
      ],
      "source": [
        "import tensorflow as tf\n",
        "from IPython.display import Markdown, display\n",
        "\n",
        "def printmd(string):\n",
        "    display(Markdown('# <span style=\"color:red\">'+string+'</span>'))\n",
        "\n",
        "\n",
        "if not tf.__version__ == '2.9.0':\n",
        "    printmd('<<<<<!!!!! ERROR !!!! please upgrade to TensorFlow 2.9.0, or restart your Kernel (Kernel->Restart & Clear Output)>>>>>')"
      ],
      "execution_count": 1
    },
    {
      "cell_type": "markdown",
      "metadata": {
        "id": "3f1db211-19af-4927-80f0-118fc5c0c7f0"
      },
      "source": [
        "In this tutorial, we first classify MNIST using a simple Multi-layer perceptron and then, in the second part, we use deeplearning to improve the accuracy of our results.\n",
        "\n",
        "<a id=\"ref3\"></a>\n",
        "<h2>1st part: classify MNIST using a simple model.</h2>\n"
      ]
    },
    {
      "cell_type": "markdown",
      "metadata": {
        "id": "aaebec15-4248-4c1e-9a0c-48d115871c1a"
      },
      "source": [
        "We are going to create a simple Multi-layer perceptron, a simple type of Neural Network, to perform classification tasks on the MNIST digits dataset. If you are not familiar with the MNIST dataset, please consider to read more about it: <a href=\"http://yann.lecun.com/exdb/mnist/?utm_medium=Exinfluencer&utm_source=Exinfluencer&utm_content=000026UJ&utm_term=10006555&utm_id=NA-SkillsNetwork-Channel-SkillsNetworkCoursesIBMDeveloperSkillsNetworkDL0120ENSkillsNetwork954-2023-01-01\">click here</a>\n"
      ]
    },
    {
      "cell_type": "markdown",
      "metadata": {
        "id": "8e9563e4-8437-4a6b-9eea-e1b10b1bf29c"
      },
      "source": [
        "<h3>What is MNIST?</h3>\n"
      ]
    },
    {
      "cell_type": "markdown",
      "metadata": {
        "id": "f3d9fe5f-371a-4716-bc1a-fcd988ba0161"
      },
      "source": [
        "According to LeCun's website, the MNIST is a: \"database of handwritten digits that has a training set of 60,000 examples, and a test set of 10,000 examples. It is a subset of a larger set available from NIST. The digits have been size-normalized and centered in a fixed-size image\".\n"
      ]
    },
    {
      "cell_type": "markdown",
      "metadata": {
        "id": "28b64f79-98be-43c5-be5f-a2ef514a11cd"
      },
      "source": [
        "<h3>Import the MNIST dataset using TensorFlow built-in feature</h3>\n"
      ]
    },
    {
      "cell_type": "markdown",
      "metadata": {
        "id": "289c047f-e260-453e-a62d-6ab848df960b"
      },
      "source": [
        "It's very important to notice that MNIST is a high optimized data-set and it does not contain images. You will need to build your own code if you want to see the real digits. Another important side note is the effort that the authors invested on this data-set with normalization and centering operations.  \n"
      ]
    },
    {
      "cell_type": "code",
      "metadata": {
        "id": "8997c1b0-c5bc-46a1-93a3-acb7010b7a79"
      },
      "outputs": [],
      "source": [
        "mnist = tf.keras.datasets.mnist\n",
        "(x_train, y_train), (x_test, y_test) = mnist.load_data()"
      ],
      "execution_count": 2
    },
    {
      "cell_type": "markdown",
      "metadata": {
        "id": "b65b4561-7e8d-484c-a6dd-eeafe462afd1"
      },
      "source": [
        "The features data are between 0 and 255, and we will normalize this to improve optimization performance.\n"
      ]
    },
    {
      "cell_type": "code",
      "metadata": {
        "id": "fb79a43a-d3d9-4d54-8810-a6c14a39fb55"
      },
      "outputs": [],
      "source": [
        "x_train, x_test = x_train / 255.0, x_test / 255.0"
      ],
      "execution_count": 3
    },
    {
      "cell_type": "markdown",
      "metadata": {
        "id": "ac80085c-02e4-4298-8896-50b0bcd90f3d"
      },
      "source": [
        "Let's take a look at the first few label values:\n"
      ]
    },
    {
      "cell_type": "code",
      "metadata": {
        "colab": {
          "base_uri": "https://localhost:8080/"
        },
        "id": "5250f113-3090-42f4-9833-25e1872ab6fd",
        "outputId": "62c8c6ac-23f2-4b63-85fd-e3d581a81cf7"
      },
      "outputs": [
        {
          "output_type": "stream",
          "name": "stdout",
          "text": [
            "[5 0 4 1 9]\n"
          ]
        }
      ],
      "source": [
        "print(y_train[0:5])"
      ],
      "execution_count": 4
    },
    {
      "cell_type": "markdown",
      "metadata": {
        "id": "c6a919d8-20ae-4e5c-a81d-77fa8bc4379a"
      },
      "source": [
        "The current label scheme simply identifies the category to which each data point belongs (each handwritten digit is assigned a category equal to the number value).  We need to convert this into a one-hot encoded vector.  In contrast to Binary representation, the labels will be presented in a way that to represent a number N, the $N^{th}$ bit is 1 while the the other bits are 0. For example, five and zero in a binary code would be:\n"
      ]
    },
    {
      "cell_type": "markdown",
      "metadata": {
        "id": "8d55eb49-7b7e-4124-9dfb-a035b85b9d76"
      },
      "source": [
        "<pre>\n",
        "Number representation:    0\n",
        "Binary encoding:        [2^5]  [2^4]   [2^3]   [2^2]   [2^1]   [2^0]  \n",
        "Array/vector:             0      0       0       0       0       0\n",
        "\n",
        "Number representation:    5\n",
        "Binary encoding:        [2^5]  [2^4]   [2^3]   [2^2]   [2^1]   [2^0]  \n",
        "Array/vector:             0      0       0       1       0       1  \n",
        "</pre>\n"
      ]
    },
    {
      "cell_type": "markdown",
      "metadata": {
        "id": "2ba779f8-feb0-446a-811a-cce02822196f"
      },
      "source": [
        "Using a different notation, the same digits using one-hot vector representation can be show as:\n"
      ]
    },
    {
      "cell_type": "markdown",
      "metadata": {
        "id": "d0a1bea2-96dd-4f02-bd0f-161233a61cef"
      },
      "source": [
        "<pre>\n",
        "Number representation:    0\n",
        "One-hot encoding:        [5]   [4]    [3]    [2]    [1]   [0]  \n",
        "Array/vector:             0     0      0      0      0     1   \n",
        "\n",
        "Number representation:    5\n",
        "One-hot encoding:        [5]   [4]    [3]    [2]    [1]    [0]  \n",
        "Array/vector:             1     0      0      0      0      0   \n",
        "</pre>\n"
      ]
    },
    {
      "cell_type": "markdown",
      "metadata": {
        "id": "af7e037c-0593-4605-9caa-64765c88f4a2"
      },
      "source": [
        "This is a standard operation, and is shown below.\n"
      ]
    },
    {
      "cell_type": "code",
      "metadata": {
        "colab": {
          "base_uri": "https://localhost:8080/"
        },
        "id": "26696366-b9d8-4a6f-a09b-d02bcd0e3080",
        "outputId": "6be1e73a-8afa-4083-a8f3-317f3a8802f3"
      },
      "outputs": [
        {
          "output_type": "stream",
          "name": "stdout",
          "text": [
            "categorical labels\n",
            "[5 0 4 1 9]\n",
            "one hot encoded labels\n",
            "tf.Tensor(\n",
            "[[0. 0. 0. 0. 0. 1. 0. 0. 0. 0.]\n",
            " [1. 0. 0. 0. 0. 0. 0. 0. 0. 0.]\n",
            " [0. 0. 0. 0. 1. 0. 0. 0. 0. 0.]\n",
            " [0. 1. 0. 0. 0. 0. 0. 0. 0. 0.]\n",
            " [0. 0. 0. 0. 0. 0. 0. 0. 0. 1.]], shape=(5, 10), dtype=float32)\n"
          ]
        }
      ],
      "source": [
        "print(\"categorical labels\")\n",
        "print(y_train[0:5])\n",
        "\n",
        "# make labels one hot encoded\n",
        "y_train = tf.one_hot(y_train, 10)\n",
        "y_test = tf.one_hot(y_test, 10)\n",
        "\n",
        "print(\"one hot encoded labels\")\n",
        "print(y_train[0:5])"
      ],
      "execution_count": 4
    },
    {
      "cell_type": "markdown",
      "metadata": {
        "id": "fe2c86e2-55cb-4190-b54e-6b0b0ab0a28f"
      },
      "source": [
        "<h3>Understanding the imported data</h3>\n"
      ]
    },
    {
      "cell_type": "markdown",
      "metadata": {
        "id": "62da1fe2-a916-44b9-a8d4-1e3b1b07e5d1"
      },
      "source": [
        "The imported data can be divided as follows:\n",
        "\n",
        "- Training >>  Use the given dataset with inputs and related outputs for training of NN. In our case, if you give an image that you know that represents a \"nine\", this set will tell the neural network that we expect a \"nine\" as the output.  \n",
        "        - 60,000 data points\n",
        "        - x_train for inputs\n",
        "        - y_train for outputs/labels\n",
        "  \n",
        "\n",
        "- Test >> The model does not have access to this information prior to the testing phase. It is used to evaluate the performance and accuracy of the model against \"real life situations\". No further optimization beyond this point.  \n",
        "        - 10,000 data points\n",
        "        - x_test for inputs\n",
        "        - y_test for outputs/labels\n",
        "\n",
        "- Validation data is not used in this example.\n"
      ]
    },
    {
      "cell_type": "code",
      "metadata": {
        "colab": {
          "base_uri": "https://localhost:8080/"
        },
        "id": "a9f7dd19-080f-48d6-a8f0-1e662d69b4a0",
        "outputId": "d8e3375c-0714-45df-f1a8-cb1fb7faec52"
      },
      "outputs": [
        {
          "output_type": "stream",
          "name": "stdout",
          "text": [
            "number of training examples: 60000\n",
            "number of test examples: 10000\n"
          ]
        }
      ],
      "source": [
        "print(\"number of training examples:\" , x_train.shape[0])\n",
        "print(\"number of test examples:\" , x_test.shape[0])"
      ],
      "execution_count": 6
    },
    {
      "cell_type": "markdown",
      "metadata": {
        "id": "026e3e71-61f4-4e05-8331-0b10ef552ad7"
      },
      "source": [
        "The new Dataset API in TensorFlow 2.X allows you to define batch sizes as part of the dataset.  It also has improved I/O characteristics, and is the recommended way of loading data.  This allows you to iterate through  subsets (batches) of the data during training.  This is a common practice that improves performance by computing gradients over smaller batches.  We will see this in action during the training step.  \n",
        "\n",
        "Additionally, you can shuffle the dataset if you believe that there is a skewed distribution of data in the original dataset that may result in batches with different distributions.  We aren't shuffling data here.\n"
      ]
    },
    {
      "cell_type": "code",
      "metadata": {
        "id": "d307f12c-5459-4cb0-be59-4ad5b2ce56de"
      },
      "outputs": [],
      "source": [
        "train_ds = tf.data.Dataset.from_tensor_slices((x_train, y_train)).batch(50)\n",
        "test_ds = tf.data.Dataset.from_tensor_slices((x_test, y_test)).batch(50)"
      ],
      "execution_count": 5
    },
    {
      "cell_type": "markdown",
      "metadata": {
        "id": "1a642c17-07d4-4bf4-8fb5-244aa9ccfc79"
      },
      "source": [
        "<h3>Converting a 2D Image into a 1D Vector</h3>\n"
      ]
    },
    {
      "cell_type": "markdown",
      "metadata": {
        "id": "886838ea-34ff-42cf-b036-b25fd7457179"
      },
      "source": [
        "MNIST images are black and white thumbnail square images with 28x28 pixels.  Each pixel is assigned an intensity (originally on a scale of 0 to 255).  To make the input useful to us, we need these to be arranged in a 1D vector using a consistent strategy, as is shown in the figure below.  We can use `Flatten` to accomplish this task.\n"
      ]
    },
    {
      "cell_type": "code",
      "metadata": {
        "colab": {
          "base_uri": "https://localhost:8080/"
        },
        "id": "2355ee95-b71b-42cc-af2a-4aa173a467a0",
        "outputId": "bed8dc27-d341-4518-e921-81de993bbb05"
      },
      "outputs": [
        {
          "output_type": "stream",
          "name": "stdout",
          "text": [
            "(60000, 28, 28)\n",
            "(60000, 784)\n"
          ]
        }
      ],
      "source": [
        "# showing an example of the Flatten class and operation\n",
        "from tensorflow.keras.layers import Flatten\n",
        "flatten = Flatten(dtype='float32')\n",
        "\n",
        "\"original data shape\"\n",
        "print(x_train.shape)\n",
        "\n",
        "\"flattened shape\"\n",
        "print(flatten(x_train).shape)"
      ],
      "execution_count": 6
    },
    {
      "cell_type": "markdown",
      "metadata": {
        "id": "9aff41a2-df1f-4675-8a27-e78ff39055f8"
      },
      "source": [
        "<img src=\"https://cf-courses-data.s3.us.cloud-object-storage.appdomain.cloud/IBMDeveloperSkillsNetwork-DL0120EN-SkillsNetwork/labs/Week2/Flatten.png\" alt=\"HTML5 Icon\" style=\"width:350px\">x\">\n",
        "<div style=\"text-align:center\">Illustration of the Flatten operation </div>\n"
      ]
    },
    {
      "cell_type": "markdown",
      "metadata": {
        "id": "58c6c0fe-0efb-4321-a015-617220df4534"
      },
      "source": [
        "<h3>Assigning bias and weights to null tensors</h3>\n"
      ]
    },
    {
      "cell_type": "markdown",
      "metadata": {
        "id": "f6f017b4-a54e-41ce-9b0b-fade029896af"
      },
      "source": [
        "Now we are going to create the weights and biases, for this purpose they will be used as arrays filled with zeros. The values that we choose here can be critical, but we'll cover a better way on the second part, instead of this type of initialization.\n",
        "Since these values will be adjusted during the optimization process, we define them using  `tf.Variable`.\n",
        "\n",
        "NOTE:  `tf.Variable` creates adjustable variables that are in the global namespace, so any function that references these variables need not pass the varibles.  But they are globals, so exercise caution when naming!\n"
      ]
    },
    {
      "cell_type": "code",
      "metadata": {
        "id": "7ae0c42e-41a4-41cb-891b-ff930b57f6bd"
      },
      "outputs": [],
      "source": [
        "# Weight tensor\n",
        "W = tf.Variable(tf.zeros([784, 10], tf.float32))\n",
        "# Bias tensor\n",
        "b = tf.Variable(tf.zeros([10], tf.float32))"
      ],
      "execution_count": 7
    },
    {
      "cell_type": "markdown",
      "metadata": {
        "id": "088b6b0a-7f2b-4548-b233-696915316ef4"
      },
      "source": [
        "<h3>Adding Weights and Biases to input</h3>\n"
      ]
    },
    {
      "cell_type": "markdown",
      "metadata": {
        "id": "840a04a1-f920-41dc-897d-111e40771937"
      },
      "source": [
        "The only difference for our next operation to the picture below is that we are using the mathematical convention for what is being executed in the illustration. The tf.matmul operation performs a matrix multiplication between x (inputs) and W (weights) and after the code add biases.\n"
      ]
    },
    {
      "cell_type": "markdown",
      "metadata": {
        "id": "29f395d6-0529-45fe-9357-28205391b822"
      },
      "source": [
        "\n",
        "<img src=\"https://ibm.box.com/shared/static/88ksiymk1xkb10rgk0jwr3jw814jbfxo.png\" alt=\"HTML5 Icon\" style=\"width:350px\">\n",
        "<div style=\"text-align:center\">Illustration showing how weights and biases are added to neurons/nodes. </div>\n"
      ]
    },
    {
      "cell_type": "code",
      "metadata": {
        "id": "794474ee-77ac-47c6-9a1f-f7b8cdfe6067"
      },
      "outputs": [],
      "source": [
        "def forward(x):\n",
        "    return tf.matmul(x,W) + b"
      ],
      "execution_count": 8
    },
    {
      "cell_type": "markdown",
      "metadata": {
        "id": "cbf47d73-987a-44c9-8d2e-a6df16037d14"
      },
      "source": [
        "<h3>Softmax Regression</h3>\n"
      ]
    },
    {
      "cell_type": "markdown",
      "metadata": {
        "id": "e9d1b648-4c83-4257-946a-1fc9f66cd050"
      },
      "source": [
        "Softmax is an activation function that is normally used in classification problems. It generates the probabilities for the output. For example, our model will not be 100% sure that one digit is the number nine, instead, the answer will be a distribution of probabilities where, if the model is right, the nine number will have a larger probability than the other other digits.\n",
        "\n",
        "For comparison, below is the one-hot vector for a nine digit label:\n"
      ]
    },
    {
      "cell_type": "raw",
      "metadata": {
        "id": "eb283abf-a0f5-422b-b522-611714b32074"
      },
      "source": [
        "0 --> 0\n",
        "1 --> 0\n",
        "2 --> 0\n",
        "3 --> 0\n",
        "4 --> 0\n",
        "5 --> 0\n",
        "6 --> 0\n",
        "7 --> 0\n",
        "8 --> 0\n",
        "9 --> 1"
      ]
    },
    {
      "cell_type": "markdown",
      "metadata": {
        "id": "6bcec60a-334f-424c-b354-06a188d2c8fc"
      },
      "source": [
        "A machine does not have all this certainty, so we want to know what is the best guess, but we also want to understand how sure it was and what was the second better option. Below is an example of a hypothetical distribution for a nine digit:\n"
      ]
    },
    {
      "cell_type": "raw",
      "metadata": {
        "id": "0739481f-a719-4e90-9b46-601fe0ff91de"
      },
      "source": [
        "0 -->0.01\n",
        "1 -->0.02\n",
        "2 -->0.03\n",
        "3 -->0.02\n",
        "4 -->0.12\n",
        "5 -->0.01\n",
        "6 -->0.03\n",
        "7 -->0.06\n",
        "8 -->0.1\n",
        "9 -->0.6"
      ]
    },
    {
      "cell_type": "markdown",
      "metadata": {
        "id": "2f00b05c-a713-486c-ae06-3f7b6941079a"
      },
      "source": [
        "Softmax is simply an exponential of each value of a vector that is also normalized.  The formula is:\n",
        "\n",
        "$$\\sigma(z_i) = \\frac{e^{z_i}}{\\sum{e^{z_i}}}$$\n"
      ]
    },
    {
      "cell_type": "code",
      "metadata": {
        "colab": {
          "base_uri": "https://localhost:8080/"
        },
        "id": "a5e963d7-a8ca-405d-84d8-3a31a9e9e265",
        "outputId": "3a5dd3a2-e768-4c26-b3ff-00c75ad6d440"
      },
      "outputs": [
        {
          "output_type": "stream",
          "name": "stdout",
          "text": [
            "softmax calculation\n",
            "[8.8075405e-01 4.8839214e-05 1.1919710e-01]\n",
            "verifying normalization\n",
            "tf.Tensor(1.0, shape=(), dtype=float32)\n",
            "finding vector with largest value (label assignment)\n",
            "category 0\n"
          ]
        }
      ],
      "source": [
        "# a sample softmax calculation on an input vector\n",
        "vector = [10, 0.2, 8]\n",
        "softmax = tf.nn.softmax(vector)\n",
        "print(\"softmax calculation\")\n",
        "print(softmax.numpy())\n",
        "print(\"verifying normalization\")\n",
        "print(tf.reduce_sum(softmax))\n",
        "print(\"finding vector with largest value (label assignment)\")\n",
        "print(\"category\", tf.argmax(softmax).numpy())"
      ],
      "execution_count": 9
    },
    {
      "cell_type": "markdown",
      "metadata": {
        "id": "fac0c091-18d1-4f5b-8df2-5d801e055935"
      },
      "source": [
        "Now we can define our output layer\n"
      ]
    },
    {
      "cell_type": "code",
      "metadata": {
        "id": "df444d75-6ae0-4fb9-898c-e122c0f3c367"
      },
      "outputs": [],
      "source": [
        "def activate(x):\n",
        "    return tf.nn.softmax(forward(x))"
      ],
      "execution_count": 10
    },
    {
      "cell_type": "markdown",
      "metadata": {
        "id": "f2313ca6-d92b-4095-89df-fb9f03b1a1b7"
      },
      "source": [
        "Logistic function output is used for the classification between two target classes 0/1. Softmax function is generalized type of logistic function. That is, Softmax can output a multiclass categorical probability distribution.\n"
      ]
    },
    {
      "cell_type": "markdown",
      "metadata": {
        "id": "7e37774a-fc43-48d1-87ba-8b4ebd68e8b7"
      },
      "source": [
        "Let's create a `model` function for convenience.\n"
      ]
    },
    {
      "cell_type": "code",
      "metadata": {
        "id": "bd641c5c-3c38-484e-93cd-b02256d49f45"
      },
      "outputs": [],
      "source": [
        "def model(x):\n",
        "    x = flatten(x)\n",
        "    return activate(x)"
      ],
      "execution_count": 11
    },
    {
      "cell_type": "markdown",
      "metadata": {
        "id": "2eea4608-f27a-4a49-b374-fd014deaad7c"
      },
      "source": [
        "<h3>Cost function</h3>\n"
      ]
    },
    {
      "cell_type": "markdown",
      "metadata": {
        "id": "77c33415-7a21-466c-8842-94d86bec05bb"
      },
      "source": [
        "It is a function that is used to minimize the difference between the right answers (labels) and estimated outputs by our Network. Here we use the cross entropy function, which is a popular cost function used for categorical models.  The function is defined in terms of probabilities, which is why we must used normalized vectors.  It is given as:\n",
        "\n",
        "$$ CrossEntropy = \\sum{y_{Label}\\cdot \\log(y_{Prediction})}$$\n"
      ]
    },
    {
      "cell_type": "code",
      "metadata": {
        "colab": {
          "base_uri": "https://localhost:8080/"
        },
        "id": "cbaeed0c-699f-4f75-89bb-ce30200bd5c8",
        "outputId": "d196b667-57f7-4bfb-8a1a-989cf71b93fb"
      },
      "outputs": [
        {
          "output_type": "execute_result",
          "data": {
            "text/plain": [
              "138155.12"
            ]
          },
          "metadata": {},
          "execution_count": 12
        }
      ],
      "source": [
        "def cross_entropy(y_label, y_pred):\n",
        "    return (-tf.reduce_sum(y_label * tf.math.log(y_pred + 1.e-10)))\n",
        "# addition of 1e-10 to prevent errors in zero calculations\n",
        "\n",
        "# current loss function for unoptimized model\n",
        "cross_entropy(y_train, model(x_train)).numpy()"
      ],
      "execution_count": 12
    },
    {
      "cell_type": "markdown",
      "metadata": {
        "id": "5e4dfe00-1bf6-4dab-9eec-10541f848484"
      },
      "source": [
        "<h3>Type of optimization: Gradient Descent</h3>\n"
      ]
    },
    {
      "cell_type": "markdown",
      "metadata": {
        "id": "7428f95b-16f7-40f7-bd8c-ae58a5d42706"
      },
      "source": [
        "This is the part where you configure the optimizer for your Neural Network. There are several optimizers available, in our case we will use Gradient Descent because it is a well established optimizer.\n"
      ]
    },
    {
      "cell_type": "code",
      "metadata": {
        "id": "e88eef86-9a46-4890-b763-e20b9b35683b"
      },
      "outputs": [],
      "source": [
        "optimizer = tf.keras.optimizers.SGD(learning_rate=0.25)"
      ],
      "execution_count": 13
    },
    {
      "cell_type": "markdown",
      "metadata": {
        "id": "4cf5f456-fcbb-4629-8766-9c2a94d5a165"
      },
      "source": [
        "Now we define the training step.  This step uses `GradientTape` to automatically compute deriviatives of the functions we have manually created and applies them using the `SGD` optimizer.\n"
      ]
    },
    {
      "cell_type": "code",
      "metadata": {
        "id": "73933252-407f-41b7-aee4-87e16ff435b0"
      },
      "outputs": [],
      "source": [
        "def train_step(x, y ):\n",
        "    with tf.GradientTape() as tape:\n",
        "        #compute loss function\n",
        "        current_loss = cross_entropy( y, model(x))\n",
        "        # compute gradient of loss\n",
        "        #(This is automatic! Even with specialized funcctions!)\n",
        "        grads = tape.gradient( current_loss , [W,b] )\n",
        "        # Apply SGD step to our Variables W and b\n",
        "        optimizer.apply_gradients( zip( grads , [W,b] ) )\n",
        "    return current_loss.numpy()"
      ],
      "execution_count": 14
    },
    {
      "cell_type": "markdown",
      "metadata": {
        "id": "d1f6f45d-80e2-4ee2-af97-f5e08e3ffbaf"
      },
      "source": [
        "<h3>Training batches</h3>\n"
      ]
    },
    {
      "cell_type": "markdown",
      "metadata": {
        "id": "a8d4c17d-93f8-444c-9a8f-91c8b70c6386"
      },
      "source": [
        "Train using minibatch Gradient Descent.\n",
        "\n",
        "In practice, Batch Gradient Descent is not often used because is too computationally expensive. The good part about this method is that you have the true gradient, but with the expensive computing task of using the whole dataset in one time. Due to this problem, Neural Networks usually use minibatch to train.\n",
        "\n",
        "We have already divided our full dataset into batches of 50 each using the Datasets API.  Now we can iterate through each of those batches to compute a gradient.  Once we iterate through all of the batches in the dataset, we complete an **epoch**, or a full traversal of the dataset.\n"
      ]
    },
    {
      "cell_type": "code",
      "metadata": {
        "colab": {
          "base_uri": "https://localhost:8080/"
        },
        "id": "2c271abf-0c3e-451d-9942-1a6b075a3e42",
        "outputId": "5c194e5d-3154-4099-d71e-37b920ff378e"
      },
      "outputs": [
        {
          "output_type": "stream",
          "name": "stdout",
          "text": [
            "epoch  0 batch 500 loss: 308.78094\n",
            "epoch  0 batch 1000 loss: 243.85347\n",
            "end of epoch  0 loss 335063.8 accuracy 0.73728335\n",
            "epoch  1 batch 500 loss: 270.43488\n",
            "epoch  1 batch 1000 loss: 239.25098\n",
            "end of epoch  1 loss 331978.1 accuracy 0.74156666\n",
            "epoch  2 batch 500 loss: 290.95187\n",
            "epoch  2 batch 1000 loss: 253.18973\n",
            "end of epoch  2 loss 325348.25 accuracy 0.7507667\n",
            "epoch  3 batch 500 loss: 292.71637\n",
            "epoch  3 batch 1000 loss: 260.54138\n",
            "end of epoch  3 loss 321318.7 accuracy 0.75453335\n",
            "epoch  4 batch 500 loss: 289.2487\n",
            "epoch  4 batch 1000 loss: 242.80728\n",
            "end of epoch  4 loss 326882.06 accuracy 0.7500833\n",
            "epoch  5 batch 500 loss: 280.16818\n",
            "epoch  5 batch 1000 loss: 230.50214\n",
            "end of epoch  5 loss 321615.75 accuracy 0.75516665\n",
            "epoch  6 batch 500 loss: 277.45898\n",
            "epoch  6 batch 1000 loss: 230.25873\n",
            "end of epoch  6 loss 318383.2 accuracy 0.7596667\n",
            "epoch  7 batch 500 loss: 296.34238\n",
            "epoch  7 batch 1000 loss: 230.25853\n",
            "end of epoch  7 loss 317834.22 accuracy 0.7604667\n",
            "epoch  8 batch 500 loss: 294.98904\n",
            "epoch  8 batch 1000 loss: 241.22311\n",
            "end of epoch  8 loss 319660.4 accuracy 0.7583333\n",
            "epoch  9 batch 500 loss: 288.79962\n",
            "epoch  9 batch 1000 loss: 230.17444\n",
            "end of epoch  9 loss 319884.72 accuracy 0.7582833\n"
          ]
        }
      ],
      "source": [
        "# zeroing out weights in case you want to run this cell multiple times\n",
        "# Weight tensor\n",
        "W = tf.Variable(tf.zeros([784, 10],tf.float32))\n",
        "# Bias tensor\n",
        "b = tf.Variable(tf.zeros([10],tf.float32))\n",
        "\n",
        "loss_values=[]\n",
        "accuracies = []\n",
        "epochs = 10\n",
        "\n",
        "for i in range(epochs):\n",
        "    j=0\n",
        "    # each batch has 50 examples\n",
        "    for x_train_batch, y_train_batch in train_ds:\n",
        "        j+=1\n",
        "        current_loss = train_step(x_train_batch, y_train_batch)\n",
        "        if j%500==0: #reporting intermittent batch statistics\n",
        "            print(\"epoch \", str(i), \"batch\", str(j), \"loss:\", str(current_loss) )\n",
        "\n",
        "    # collecting statistics at each epoch...loss function and accuracy\n",
        "    #  loss function\n",
        "    current_loss = cross_entropy( y_train, model( x_train )).numpy()\n",
        "    loss_values.append(current_loss)\n",
        "    correct_prediction = tf.equal(tf.argmax(model(x_train), axis=1),\n",
        "                                  tf.argmax(y_train, axis=1))\n",
        "    #  accuracy\n",
        "    accuracy = tf.reduce_mean(tf.cast(correct_prediction, tf.float32)).numpy()\n",
        "    accuracies.append(accuracy)\n",
        "    print(\"end of epoch \", str(i), \"loss\", str(current_loss), \"accuracy\", str(accuracy) )\n"
      ],
      "execution_count": 15
    },
    {
      "cell_type": "markdown",
      "metadata": {
        "id": "85d62b26-075e-442e-818f-1f1cada52c2e"
      },
      "source": [
        "<h3>Test and Plots</h3>\n"
      ]
    },
    {
      "cell_type": "markdown",
      "metadata": {
        "id": "501234ca-7ad2-4b1e-be9e-4f1f635de0bd"
      },
      "source": [
        "It is common to run intermittent diagnostics (such as accuracy and loss over entire dataset) during training.  Here we compute a summary statistic on the test dataset as well.  Fitness metrics for the training data should closely match those of the test data.  If the test metrics are distinctly less favorable, this can be a sign of overfitting.\n"
      ]
    },
    {
      "cell_type": "code",
      "metadata": {
        "colab": {
          "base_uri": "https://localhost:8080/"
        },
        "id": "d04ecf1e-16d5-4bf0-9fde-93a37171bf57",
        "outputId": "fb01b4df-9796-4a73-9855-4f6a003d0dbb"
      },
      "outputs": [
        {
          "output_type": "stream",
          "name": "stdout",
          "text": [
            "training accuracy 0.7582833\n",
            "test accuracy 0.7536\n"
          ]
        }
      ],
      "source": [
        "correct_prediction_train = tf.equal(tf.argmax(model(x_train), axis=1),tf.argmax(y_train,axis=1))\n",
        "accuracy_train = tf.reduce_mean(tf.cast(correct_prediction_train, tf.float32)).numpy()\n",
        "\n",
        "correct_prediction_test = tf.equal(tf.argmax(model(x_test), axis=1),tf.argmax(y_test, axis=1))\n",
        "accuracy_test = tf.reduce_mean(tf.cast(correct_prediction_test, tf.float32)).numpy()\n",
        "\n",
        "print(\"training accuracy\", accuracy_train)\n",
        "print(\"test accuracy\", accuracy_test)"
      ],
      "execution_count": 16
    },
    {
      "cell_type": "markdown",
      "metadata": {
        "id": "ee47b5ea-439e-4868-b330-a68a7b4eddb8"
      },
      "source": [
        "<hr>\n"
      ]
    },
    {
      "cell_type": "markdown",
      "metadata": {
        "id": "299394ce-9cf5-4dcb-946a-97bebc692b71"
      },
      "source": [
        "The next two plots show the performance of the optimization at each epoch.\n"
      ]
    },
    {
      "cell_type": "code",
      "metadata": {
        "colab": {
          "base_uri": "https://localhost:8080/",
          "height": 581
        },
        "id": "61f15812-e4ff-4928-bbb1-e25058b19f7f",
        "outputId": "6f84f3a5-d76a-480c-84a1-98a06eefd43e"
      },
      "outputs": [
        {
          "output_type": "execute_result",
          "data": {
            "text/plain": [
              "Text(0, 0.5, 'loss')"
            ]
          },
          "metadata": {},
          "execution_count": 19
        },
        {
          "output_type": "display_data",
          "data": {
            "text/plain": [
              "<Figure size 1000x600 with 1 Axes>"
            ],
            "image/png": "[encoded data removed]"
          },
          "metadata": {}
        }
      ],
      "source": [
        "import matplotlib.pyplot as plt\n",
        "%matplotlib inline\n",
        "plt.rcParams['figure.figsize'] = (10, 6)\n",
        "#print(loss_values)\n",
        "plt.plot(loss_values,'-ro')\n",
        "plt.title(\"loss per epoch\")\n",
        "plt.xlabel(\"epoch\")\n",
        "plt.ylabel(\"loss\")"
      ],
      "execution_count": 19
    },
    {
      "cell_type": "code",
      "metadata": {
        "colab": {
          "base_uri": "https://localhost:8080/",
          "height": 581
        },
        "id": "a2d5eb67-7927-4f34-bb74-397f99799179",
        "outputId": "9815d7a3-08d8-4cde-b527-779a45f0e3db"
      },
      "outputs": [
        {
          "output_type": "execute_result",
          "data": {
            "text/plain": [
              "Text(0, 0.5, 'accuracy')"
            ]
          },
          "metadata": {},
          "execution_count": 20
        },
        {
          "output_type": "display_data",
          "data": {
            "text/plain": [
              "<Figure size 1000x600 with 1 Axes>"
            ],
            "image/png": "[encoded data removed]"
          },
          "metadata": {}
        }
      ],
      "source": [
        "plt.plot(accuracies,'-ro')\n",
        "plt.title(\"accuracy per epoch\")\n",
        "plt.xlabel(\"epoch\")\n",
        "plt.ylabel(\"accuracy\")"
      ],
      "execution_count": 20
    },
    {
      "cell_type": "markdown",
      "metadata": {
        "id": "9f5075ff-9e38-4dd4-a78b-316495732ac1"
      },
      "source": [
        "<a id=\"ref4\"></a>\n",
        "<h2>Evaluating the final result</h2>\n"
      ]
    },
    {
      "cell_type": "markdown",
      "metadata": {
        "id": "1563b482-da12-4c65-8d23-e6ef57726ece"
      },
      "source": [
        "84% accuracy is not bad considering the simplicity of the model, but >90% accuracy has been achieved in the past.  \n"
      ]
    },
    {
      "cell_type": "markdown",
      "metadata": {
        "id": "1b7e795f-ed29-4d1c-9fbd-f7e732b773fe"
      },
      "source": [
        "<a id=\"ref5\"></a>\n",
        "<h2>How to improve our model?</h2>\n"
      ]
    },
    {
      "cell_type": "markdown",
      "metadata": {
        "id": "353dbeff-bb34-490a-9881-bdc43ca72d99"
      },
      "source": [
        "<h4>Several options as follow:</h4>\n",
        "<ul>\n",
        "    <li>Regularization of Neural Networks using DropConnect</li>\n",
        "    <li>Multi-column Deep Neural Networks for Image Classification</li>\n",
        "    <li>APAC: Augmented Pattern Classification with Neural Networks</li>\n",
        "    <li>Simple Deep Neural Network with Dropout</li>\n",
        "</ul>\n",
        "<h4>In the next part we are going to explore the option:</h4>\n",
        "<ul>\n",
        "    <li>Simple Deep Neural Network with Dropout (more than 1 hidden layer)</li>\n",
        "</ul>\n"
      ]
    },
    {
      "cell_type": "markdown",
      "metadata": {
        "id": "d1444de4-d871-4fe0-bd08-5fe347124926"
      },
      "source": [
        "<hr>\n"
      ]
    },
    {
      "cell_type": "markdown",
      "metadata": {
        "id": "bf480dc5-8c1a-4e44-b47c-064c84e8c103"
      },
      "source": [
        "<a id=\"ref6\"></a>\n",
        "<h2>2nd part: Deep Learning applied on MNIST</h2>\n"
      ]
    },
    {
      "cell_type": "markdown",
      "metadata": {
        "id": "0d363ced-bc52-4d40-973b-fa0f806d2679"
      },
      "source": [
        "In the first part, we learned how to use a simple ANN to classify MNIST. Now we are going to expand our knowledge using a Deep Neural Network.\n",
        "\n",
        "\n",
        "Architecture of our network is:\n",
        "    \n",
        "- (Input) -> [batch_size, 28, 28, 1]  >> Apply 32 filter of [5x5]\n",
        "- (Convolutional layer 1)  -> [batch_size, 28, 28, 32]\n",
        "- (ReLU 1)  -> [?, 28, 28, 32]\n",
        "- (Max pooling 1) -> [?, 14, 14, 32]\n",
        "- (Convolutional layer 2)  -> [?, 14, 14, 64]\n",
        "- (ReLU 2)  -> [?, 14, 14, 64]\n",
        "- (Max pooling 2)  -> [?, 7, 7, 64]\n",
        "- [fully connected layer 3] -> [1x1024]\n",
        "- [ReLU 3]  -> [1x1024]\n",
        "- [Drop out]  -> [1x1024]\n",
        "- [fully connected layer 4] -> [1x10]\n",
        "\n",
        "\n",
        "The next cells will explore this new architecture.\n"
      ]
    },
    {
      "cell_type": "markdown",
      "metadata": {
        "id": "95f56994-b2f7-4d65-9347-9cd59c773284"
      },
      "source": [
        "<h3>The MNIST data</h3>\n"
      ]
    },
    {
      "cell_type": "markdown",
      "metadata": {
        "id": "de142cdc-1f2e-4364-a286-49911d27e783"
      },
      "source": [
        "The MNIST Dataset will be used from the above example.\n"
      ]
    },
    {
      "cell_type": "markdown",
      "metadata": {
        "id": "be64a3bb-f46f-4e6d-b476-e139c1e6815e"
      },
      "source": [
        "<h3>Initial parameters</h3>\n"
      ]
    },
    {
      "cell_type": "markdown",
      "metadata": {
        "id": "7d4958d3-0f59-4558-85d2-391fd9370af3"
      },
      "source": [
        "Create general parameters for the model\n"
      ]
    },
    {
      "cell_type": "code",
      "metadata": {
        "id": "711f324d-b379-4dcb-807e-2d6fcc83f903"
      },
      "outputs": [],
      "source": [
        "width = 28 # width of the image in pixels\n",
        "height = 28 # height of the image in pixels\n",
        "flat = width * height # number of pixels in one image\n",
        "class_output = 10 # number of possible classifications for the problem"
      ],
      "execution_count": 17
    },
    {
      "cell_type": "markdown",
      "metadata": {
        "id": "d2aac721-175c-49b8-9d95-3286a47e3623"
      },
      "source": [
        "<h4>Converting images of the data set to tensors</h4>\n"
      ]
    },
    {
      "cell_type": "markdown",
      "metadata": {
        "id": "9491b080-7a5d-4b58-8a5f-0ae5324ccf39"
      },
      "source": [
        "The input image is 28 pixels by 28 pixels, 1 channel (grayscale). In this case, the first dimension is the <b>batch number</b> of the image, and can be of any size (so we set it to -1). The second and third dimensions are width and height, and the last one is the image channels.\n"
      ]
    },
    {
      "cell_type": "code",
      "metadata": {
        "id": "125d01be-d900-4b7f-94fd-e2506b23996e"
      },
      "outputs": [],
      "source": [
        "x_image_train = tf.reshape(x_train, [-1,28,28,1])\n",
        "x_image_train = tf.cast(x_image_train, 'float32')\n",
        "\n",
        "x_image_test = tf.reshape(x_test, [-1,28,28,1])\n",
        "x_image_test = tf.cast(x_image_test, 'float32')\n",
        "\n",
        "#creating new dataset with reshaped inputs\n",
        "train_ds2 = tf.data.Dataset.from_tensor_slices((x_image_train, y_train)).batch(50)\n",
        "test_ds2 = tf.data.Dataset.from_tensor_slices((x_image_test, y_test)).batch(50)"
      ],
      "execution_count": 18
    },
    {
      "cell_type": "markdown",
      "metadata": {
        "id": "f803e2fe-cac1-4d32-a6ef-3fe2e160edb5"
      },
      "source": [
        "Reducing data set size from this point on because the Skills Netowrk Labs only provides 4 GB of main memory but 8 are needed otherwise. If you want to run faster (in multiple CPU or GPU) and on the whole data set consider using IBM Watson Studio. You get 100 hours of free usage every month. https://github.com/IBM/skillsnetwork/wiki/Watson-Studio-Setup\n"
      ]
    },
    {
      "cell_type": "code",
      "metadata": {
        "id": "0629ee98-613a-4b09-b8ac-5188e6cbccef"
      },
      "outputs": [],
      "source": [
        "x_image_train = tf.slice(x_image_train,[0,0,0,0],[10000, 28, 28, 1])\n",
        "y_train = tf.slice(y_train,[0,0],[10000, 10])"
      ],
      "execution_count": 19
    },
    {
      "cell_type": "markdown",
      "metadata": {
        "id": "0b39227d-326b-41f7-8c80-a391cbd8e17b"
      },
      "source": [
        "<h3>Convolutional Layer 1</h3>\n"
      ]
    },
    {
      "cell_type": "markdown",
      "metadata": {
        "id": "4771d36c-ccc0-46e5-aaf1-d4e4f05cf204"
      },
      "source": [
        "<h4>Defining kernel weight and bias</h4>\n",
        "We define a kernel here. The Size of the filter/kernel is 5x5;  Input channels is 1 (grayscale);  and we need 32 different feature maps (here, 32 feature maps means 32 different filters are applied on each image. So, the output of convolution layer would be 28x28x32). In this step, we create a filter / kernel tensor of shape <code>[filter_height, filter_width, in_channels, out_channels]</code>\n"
      ]
    },
    {
      "cell_type": "code",
      "metadata": {
        "id": "dae94ebc-9a14-4ca9-935e-a09b85a2afb0"
      },
      "outputs": [],
      "source": [
        "W_conv1 = tf.Variable(tf.random.truncated_normal([5, 5, 1, 32], stddev=0.1, seed=0))\n",
        "b_conv1 = tf.Variable(tf.constant(0.1, shape=[32])) # need 32 biases for 32 outputs"
      ],
      "execution_count": 20
    },
    {
      "cell_type": "markdown",
      "metadata": {
        "id": "298550dc-4912-4b0f-951e-3c0c902a942d"
      },
      "source": [
        "<img src=\"https://ibm.box.com/shared/static/vn26neef1nnv2oxn5cb3uueowcawhkgb.png\" style=\"width: 800px; height: 400px;\" alt=\"HTML5 Icon\">\n",
        "\n",
        "</h4>Convolve with weight tensor and add biases.</h4>\n",
        "\n",
        "To create convolutional layer, we use <b>tf.nn.conv2d</b>. It computes a 2-D convolution given 4-D input and filter tensors.\n",
        "\n",
        "Inputs:\n",
        "- tensor of shape [batch, in_height, in_width, in_channels]. x of shape [batch_size,28 ,28, 1]\n",
        "- a filter / kernel tensor of shape [filter_height, filter_width, in_channels, out_channels]. W is of size [5, 5, 1, 32]\n",
        "- stride which is  [1, 1, 1, 1]. The convolutional layer, slides the \"kernel window\" across the input tensor. As the input tensor has 4 dimensions:  [batch, height, width, channels], then the convolution operates on a 2D window on the height and width dimensions. __strides__ determines how much the window shifts by in each of the dimensions. As the first and last dimensions are related to batch and channels, we set the stride to 1. But for second and third dimension, we could set other values, e.g. [1, 2, 2, 1]\n",
        "    \n",
        "    \n",
        "Process:\n",
        "- Change the filter to a 2-D matrix with shape [5\\*5\\*1,32]\n",
        "- Extracts image patches from the input tensor to form a *virtual* tensor of shape `[batch, 28, 28, 5*5*1]`.\n",
        "- For each batch, right-multiplies the filter matrix and the image vector.\n",
        "\n",
        "Output:\n",
        "- A `Tensor` (a 2-D convolution) of size tf.Tensor 'add_7:0' shape=(?, 28, 28, 32)- Notice: the output of the first convolution layer is 32 [28x28] images. Here 32 is considered as volume/depth of the output image.\n"
      ]
    },
    {
      "cell_type": "code",
      "metadata": {
        "id": "d88b5f96-43dd-4621-9293-bd9f5b5bdb5d"
      },
      "outputs": [],
      "source": [
        "def convolve1(x):\n",
        "    return(\n",
        "        tf.nn.conv2d(x, W_conv1, strides=[1, 1, 1, 1], padding='SAME') + b_conv1)"
      ],
      "execution_count": 21
    },
    {
      "cell_type": "markdown",
      "metadata": {
        "id": "f52b46bd-432c-43e9-b096-a8c5a1e1de24"
      },
      "source": [
        "<img src=\"https://ibm.box.com/shared/static/iizf4ui4b2hh9wn86pplqxu27ykpqci9.png\" style=\"width: 800px; height: 400px;\" alt=\"HTML5 Icon\">\n"
      ]
    },
    {
      "cell_type": "markdown",
      "metadata": {
        "id": "113e391a-002f-458e-927c-fa2a91d2be34"
      },
      "source": [
        "<h4>Apply the ReLU activation Function</h4>\n"
      ]
    },
    {
      "cell_type": "markdown",
      "metadata": {
        "id": "d6b870d9-8788-47e4-8905-9986d25d202b"
      },
      "source": [
        "In this step, we just go through all outputs convolution layer, <b>convolve1</b>, and wherever a negative number occurs, we swap it out for a 0. It is called ReLU activation Function.<br> Let f(x) is a ReLU activation function $f(x) = max(0,x)$.\n"
      ]
    },
    {
      "cell_type": "code",
      "metadata": {
        "id": "864d5364-14f6-4eb7-94ed-33156b2616e9"
      },
      "outputs": [],
      "source": [
        "def h_conv1(x): return(tf.nn.relu(convolve1(x)))"
      ],
      "execution_count": 22
    },
    {
      "cell_type": "markdown",
      "metadata": {
        "id": "ca7088a4-fad0-4928-8a2a-552eea547f54"
      },
      "source": [
        "<h4>Apply the max pooling</h4>\n"
      ]
    },
    {
      "cell_type": "markdown",
      "metadata": {
        "id": "9594b260-233e-42cc-af96-fc4914554139"
      },
      "source": [
        "<b>max pooling</b> is a form of non-linear down-sampling. It partitions the input image into a set of rectangles and, and then find the maximum value for that region.\n",
        "\n",
        "Lets use <b>tf.nn.max_pool</b> function to perform max pooling.\n",
        "<b>Kernel size:</b> 2x2 (if the window is a 2x2 matrix, it would result in one output pixel)  \n",
        "<b>Strides:</b> dictates the sliding behaviour of the kernel. In this case it will move 2 pixels everytime, thus not overlapping. The input is a matrix of size 28x28x32, and the output would be a matrix of size 14x14x32.\n",
        "\n",
        "<img src=\"https://ibm.box.com/shared/static/kmaja90mn3aud9mro9cn8pbbg1h5pejy.png\" alt=\"HTML5 Icon\" style=\"width: 800px; height: 400px;\">\n",
        "\n"
      ]
    },
    {
      "cell_type": "code",
      "metadata": {
        "id": "1d0f77ed-1e03-49d4-a56a-c0d560cf6474"
      },
      "outputs": [],
      "source": [
        "def conv1(x):\n",
        "    return tf.nn.max_pool(h_conv1(x), ksize=[1, 2, 2, 1],\n",
        "                          strides=[1, 2, 2, 1], padding='SAME')"
      ],
      "execution_count": 23
    },
    {
      "cell_type": "markdown",
      "metadata": {
        "id": "0fed0dcb-fb36-4dd7-9a17-0b075717862a"
      },
      "source": [
        "First layer completed\n"
      ]
    },
    {
      "cell_type": "markdown",
      "metadata": {
        "id": "9c3d2917-e2ff-4c09-af72-82adbe2c72c3"
      },
      "source": [
        "<h3>Convolutional Layer 2</h3>\n",
        "<h4>Weights and Biases of kernels</h4>\n"
      ]
    },
    {
      "cell_type": "markdown",
      "metadata": {
        "id": "87c3d9f1-e010-4bc0-8e8f-c2435ceab9d8"
      },
      "source": [
        "We apply the convolution again in this layer. Lets look at the second layer kernel:  \n",
        "- Filter/kernel: 5x5 (25 pixels)\n",
        "- Input channels: 32 (from the 1st Conv layer, we had 32 feature maps)\n",
        "- 64 output feature maps  \n",
        "\n",
        "<b>Notice:</b> here, the input image is [14x14x32], the filter is [5x5x32], we use 64 filters of size [5x5x32], and the output of the convolutional layer would be 64 convolved image, [14x14x64].\n",
        "\n",
        "<b>Notice:</b> the convolution result of applying a filter of size [5x5x32] on image of size [14x14x32] is an image of size [14x14x1], that is, the convolution is functioning on volume.\n"
      ]
    },
    {
      "cell_type": "code",
      "metadata": {
        "id": "a50f707c-b25d-4097-ae1e-c354b994e39c"
      },
      "outputs": [],
      "source": [
        "W_conv2 = tf.Variable(tf.random.truncated_normal([5, 5, 32, 64], stddev=0.1, seed=1))\n",
        "b_conv2 = tf.Variable(tf.constant(0.1, shape=[64])) #need 64 biases for 64 outputs"
      ],
      "execution_count": 24
    },
    {
      "cell_type": "markdown",
      "metadata": {
        "id": "eb7af74e-1dec-41c8-9d23-617d1761cdb5"
      },
      "source": [
        "<h4>Convolve image with weight tensor and add biases.</h4>\n"
      ]
    },
    {
      "cell_type": "code",
      "metadata": {
        "id": "e26d5f30-a188-490f-94b9-bcbd05f6818b"
      },
      "outputs": [],
      "source": [
        "def convolve2(x):\n",
        "    return(\n",
        "    tf.nn.conv2d(conv1(x), W_conv2, strides=[1, 1, 1, 1], padding='SAME') + b_conv2)"
      ],
      "execution_count": 25
    },
    {
      "cell_type": "markdown",
      "metadata": {
        "id": "bad9fe21-d3e1-4d9c-93fb-36ce2d89ab8b"
      },
      "source": [
        "<h4>Apply the ReLU activation Function</h4>\n"
      ]
    },
    {
      "cell_type": "code",
      "metadata": {
        "id": "1ce0be49-ee73-45e0-8f0b-df56d8256935"
      },
      "outputs": [],
      "source": [
        "def h_conv2(x):  return tf.nn.relu(convolve2(x))"
      ],
      "execution_count": 26
    },
    {
      "cell_type": "markdown",
      "metadata": {
        "id": "71b106ee-6add-4567-b61b-0dc0c04d4499"
      },
      "source": [
        "<h4>Apply the max pooling</h4>\n"
      ]
    },
    {
      "cell_type": "code",
      "metadata": {
        "id": "06082684-ddf4-4270-ac3b-cddf460fee29"
      },
      "outputs": [],
      "source": [
        "def conv2(x):\n",
        "    return(\n",
        "    tf.nn.max_pool(h_conv2(x), ksize=[1, 2, 2, 1], strides=[1, 2, 2, 1], padding='SAME'))"
      ],
      "execution_count": 27
    },
    {
      "cell_type": "markdown",
      "metadata": {
        "id": "b7ba2929-09aa-4c44-8645-afc597c47803"
      },
      "source": [
        "Second layer completed. So, what is the output of the second layer, layer2?\n",
        "- it is 64 matrix of [7x7]\n"
      ]
    },
    {
      "cell_type": "markdown",
      "metadata": {
        "id": "6d25200d-082b-40dd-8bde-0b36e69ab49e"
      },
      "source": [
        "<h3>Fully Connected Layer</h3>\n"
      ]
    },
    {
      "cell_type": "markdown",
      "metadata": {
        "id": "36eaea13-f1f8-4b7f-ad37-e78ac346f4c8"
      },
      "source": [
        "You need a fully connected layer to use the Softmax and create the probabilities in the end. Fully connected layers take the high-level filtered images from previous layer, that is all 64 matrices, and convert them to a flat array.\n",
        "\n",
        "So, each matrix [7x7] will be converted to a matrix of [49x1], and then all of the 64 matrix will be connected, which make an array of size [3136x1]. We will connect it into another layer of size [1024x1]. So, the weight between these 2 layers will be [3136x1024]\n",
        "\n",
        "\n",
        "<img src=\"https://ibm.box.com/shared/static/pr9mnirmlrzm2bitf1d4jj389hyvv7ey.png\" alt=\"HTML5 Icon\" style=\"width: 800px; height: 400px;\">\n"
      ]
    },
    {
      "cell_type": "markdown",
      "metadata": {
        "id": "0f2167c2-3ab7-42bf-accc-6e76f8e8b294"
      },
      "source": [
        "<h4>Flattening Second Layer</h4>\n"
      ]
    },
    {
      "cell_type": "code",
      "metadata": {
        "id": "b6f3a352-3b1b-49e1-af97-e2105acd2665"
      },
      "outputs": [],
      "source": [
        "def layer2_matrix(x): return tf.reshape(conv2(x), [-1, 7 * 7 * 64])"
      ],
      "execution_count": 28
    },
    {
      "cell_type": "markdown",
      "metadata": {
        "id": "6e173e02-bea6-4ed1-bbcc-21a52ffea63f"
      },
      "source": [
        "<h4>Weights and Biases between layer 2 and 3</h4>\n"
      ]
    },
    {
      "cell_type": "markdown",
      "metadata": {
        "id": "65281db7-7244-4f36-931b-b03e6de65268"
      },
      "source": [
        "Composition of the feature map from the last layer (7x7) multiplied by the number of feature maps (64); 1027 outputs to Softmax layer\n"
      ]
    },
    {
      "cell_type": "code",
      "metadata": {
        "id": "d2324ab1-aebc-4eb8-a6b7-516c356b0bcf"
      },
      "outputs": [],
      "source": [
        "W_fc1 = tf.Variable(tf.random.truncated_normal([7 * 7 * 64, 1024], stddev=0.1, seed = 2))\n",
        "b_fc1 = tf.Variable(tf.constant(0.1, shape=[1024])) # need 1024 biases for 1024 outputs"
      ],
      "execution_count": 29
    },
    {
      "cell_type": "markdown",
      "metadata": {
        "id": "bbbae591-6d34-4fee-bf55-f69813482297"
      },
      "source": [
        "<h4>Matrix Multiplication (applying weights and biases)</h4>\n"
      ]
    },
    {
      "cell_type": "code",
      "metadata": {
        "id": "701388a5-8e34-4ce3-aa37-38f1317ccb98"
      },
      "outputs": [],
      "source": [
        "def fcl(x): return tf.matmul(layer2_matrix(x), W_fc1) + b_fc1"
      ],
      "execution_count": 30
    },
    {
      "cell_type": "markdown",
      "metadata": {
        "id": "2b96c7f0-ee62-42a1-aaec-5f99d95a7437"
      },
      "source": [
        "<h4>Apply the ReLU activation Function</h4>\n"
      ]
    },
    {
      "cell_type": "code",
      "metadata": {
        "id": "b6d7d050-7930-434d-a23c-4da9b092088d"
      },
      "outputs": [],
      "source": [
        "def h_fc1(x): return tf.nn.relu(fcl(x))"
      ],
      "execution_count": 31
    },
    {
      "cell_type": "markdown",
      "metadata": {
        "id": "66621c8b-a2b4-45bf-889e-99b5f76e1d8c"
      },
      "source": [
        "Third layer completed\n"
      ]
    },
    {
      "cell_type": "markdown",
      "metadata": {
        "id": "d36e9d3e-d9b6-48da-a78d-6519ee9b7c19"
      },
      "source": [
        "<h4>Dropout Layer, Optional phase for reducing overfitting</h4>\n"
      ]
    },
    {
      "cell_type": "markdown",
      "metadata": {
        "id": "1727a8b5-f2ac-40af-b439-82e5c5d02087"
      },
      "source": [
        "It is a phase where the network \"forget\" some features. At each training step in a mini-batch, some units get switched off randomly so that it will not interact with the network. That is, it weights cannot be updated, nor affect the learning of the other network nodes.  This can be very useful for very large neural networks to prevent overfitting.\n"
      ]
    },
    {
      "cell_type": "code",
      "metadata": {
        "id": "33cfbf85-f587-4240-9ce1-491f9d1832c4"
      },
      "outputs": [],
      "source": [
        "keep_prob=0.5\n",
        "def layer_drop(x): return tf.nn.dropout(h_fc1(x), keep_prob)"
      ],
      "execution_count": 32
    },
    {
      "cell_type": "markdown",
      "metadata": {
        "id": "a07984c0-0187-47a2-8dd8-cc6e5192cf25"
      },
      "source": [
        "<h4>Readout Layer (Softmax Layer)</h4>\n"
      ]
    },
    {
      "cell_type": "markdown",
      "metadata": {
        "id": "392a352a-5693-4522-8dcd-0010fe0e835c"
      },
      "source": [
        "Type: Softmax, Fully Connected Layer.\n"
      ]
    },
    {
      "cell_type": "markdown",
      "metadata": {
        "id": "2dfad4eb-74c5-43d0-933d-b54e817768a7"
      },
      "source": [
        "<h4>Weights and Biases</h4>\n"
      ]
    },
    {
      "cell_type": "markdown",
      "metadata": {
        "id": "a0a03b77-dd75-4bd1-be1b-e5ea8a997012"
      },
      "source": [
        "In last layer, CNN takes the high-level filtered images and translate them into votes using softmax.\n",
        "Input channels: 1024 (neurons from the 3rd Layer); 10 output features\n"
      ]
    },
    {
      "cell_type": "code",
      "metadata": {
        "id": "438734b8-0b37-4038-bb73-221936229c24"
      },
      "outputs": [],
      "source": [
        "W_fc2 = tf.Variable(tf.random.truncated_normal([1024, 10], stddev=0.1, seed = 2)) #1024 neurons\n",
        "b_fc2 = tf.Variable(tf.constant(0.1, shape=[10])) # 10 possibilities for digits [0,1,2,3,4,5,6,7,8,9]"
      ],
      "execution_count": 33
    },
    {
      "cell_type": "markdown",
      "metadata": {
        "id": "d9173451-a4d1-4926-b18f-5c31bdfbe216"
      },
      "source": [
        "<h4>Matrix Multiplication (applying weights and biases)</h4>\n"
      ]
    },
    {
      "cell_type": "code",
      "metadata": {
        "id": "0d5c82ea-2cde-4cc9-8aa1-f7645082f62f"
      },
      "outputs": [],
      "source": [
        "def fc(x): return tf.matmul(layer_drop(x), W_fc2) + b_fc2"
      ],
      "execution_count": 34
    },
    {
      "cell_type": "markdown",
      "metadata": {
        "id": "8d77bc6f-c687-4333-9eac-122d983f7f1a"
      },
      "source": [
        "<h4>Apply the Softmax activation Function</h4>\n",
        "<b>softmax</b> allows us to interpret the outputs of <b>fcl4</b> as probabilities. So, <b>y_conv</b> is a tensor of probabilities.\n"
      ]
    },
    {
      "cell_type": "code",
      "metadata": {
        "id": "d12f9819-1431-4dbb-8c0c-8fc795df235a"
      },
      "outputs": [],
      "source": [
        "def y_CNN(x): return tf.nn.softmax(fc(x))"
      ],
      "execution_count": 35
    },
    {
      "cell_type": "markdown",
      "metadata": {
        "id": "ae1f3662-5457-4ab9-868c-5b6d733fe8cf"
      },
      "source": [
        "---\n"
      ]
    },
    {
      "cell_type": "markdown",
      "metadata": {
        "id": "d9847377-19ac-46d5-a708-427a405a7a71"
      },
      "source": [
        "<a id=\"ref7\"></a>\n",
        "<h2>Summary of the Deep Convolutional Neural Network</h2>\n"
      ]
    },
    {
      "cell_type": "markdown",
      "metadata": {
        "id": "c8d463e4-b291-4459-9801-5bd004c2f2d8"
      },
      "source": [
        "Now is time to remember the structure of  our network\n"
      ]
    },
    {
      "cell_type": "markdown",
      "metadata": {
        "id": "395ca6f7-59dc-4c1b-a456-932e9ef30640"
      },
      "source": [
        "#### 0) Input - MNIST dataset\n",
        "#### 1) Convolutional and Max-Pooling\n",
        "#### 2) Convolutional and Max-Pooling\n",
        "#### 3) Fully Connected Layer\n",
        "#### 4) Processing - Dropout\n",
        "#### 5) Readout layer - Fully Connected\n",
        "#### 6) Outputs - Classified digits\n"
      ]
    },
    {
      "cell_type": "markdown",
      "metadata": {
        "id": "af6d6f41-b25d-4d6b-8592-9e1945b2c44e"
      },
      "source": [
        "---\n"
      ]
    },
    {
      "cell_type": "markdown",
      "metadata": {
        "id": "c0ee2587-93b2-4e9c-989b-1dffd90246ca"
      },
      "source": [
        "<a id=\"ref8\"></a>\n",
        "<h2>Define functions and train the model</h2>\n"
      ]
    },
    {
      "cell_type": "markdown",
      "metadata": {
        "id": "e38c675c-810e-4ae5-af65-fcf6ad33a826"
      },
      "source": [
        "<h4>Define the loss function</h4>\n",
        "\n",
        "We need to compare our output, layer4 tensor, with ground truth for all mini_batch. we can use <b>cross entropy>/b> to see how bad our CNN is working - to measure the error at a softmax layer.\n",
        "\n",
        "The following code shows an toy sample of cross-entropy for a mini-batch of size 2 which its items have been classified. You can run it (first change the cell type to <b>code</b> in the toolbar) to see how cross entropy changes.\n"
      ]
    },
    {
      "cell_type": "raw",
      "metadata": {
        "id": "7dcb3192-affc-4241-9cf0-6eddc177dda1"
      },
      "source": [
        "import numpy as np\n",
        "layer4_test =[[0.9, 0.1, 0.1],[0.9, 0.1, 0.1]]\n",
        "y_test=[[1.0, 0.0, 0.0],[1.0, 0.0, 0.0]]\n",
        "np.mean( -np.sum(y_test * np.log(layer4_test),1))"
      ]
    },
    {
      "cell_type": "markdown",
      "metadata": {
        "id": "2d2b161d-314e-46a3-99ab-f15402e8d328"
      },
      "source": [
        "<b>reduce_sum</b> computes the sum of elements of <b>(y_ * tf.log(layer4)</b> across second dimension of the tensor, and <b>reduce_mean</b> computes the mean of all elements in the tensor..\n",
        "\n",
        "$$ CrossEntropy = \\sum{y_{Label}\\cdot \\log(y_{Prediction})}$$\n"
      ]
    },
    {
      "cell_type": "code",
      "metadata": {
        "id": "9dbc01c0-66d9-4d8f-9264-832ee9dfe847"
      },
      "outputs": [],
      "source": [
        "def cross_entropy(y_label, y_pred):\n",
        "    return (-tf.reduce_sum(y_label * tf.math.log(y_pred + 1.e-10)))"
      ],
      "execution_count": 36
    },
    {
      "cell_type": "markdown",
      "metadata": {
        "id": "39fbd965-1100-453e-85c8-be9f0a6c4682"
      },
      "source": [
        "<h4>Define the optimizer</h4>\n",
        "\n",
        "It is obvious that we want minimize the error of our network which is calculated by cross_entropy metric. To solve the problem, we have to compute gradients for the loss (which is minimizing the cross-entropy) and apply gradients to variables. It will be done by an optimizer: GradientDescent or Adagrad.\n"
      ]
    },
    {
      "cell_type": "code",
      "metadata": {
        "id": "cfedb344-32c3-4d3b-8a46-92bb6cfcc00a"
      },
      "outputs": [],
      "source": [
        "optimizer = tf.keras.optimizers.Adam(1e-4)"
      ],
      "execution_count": 37
    },
    {
      "cell_type": "markdown",
      "metadata": {
        "id": "6b3c7319-c9e2-46d3-a4f8-2d6ba470452b"
      },
      "source": [
        "Following the convention of our first example, we will use `GradientTape` to define a model.\n"
      ]
    },
    {
      "cell_type": "code",
      "metadata": {
        "id": "df6bc675-6bf6-4e41-8d43-d1decabfabf7"
      },
      "outputs": [],
      "source": [
        "variables = [W_conv1, b_conv1, W_conv2, b_conv2,\n",
        "             W_fc1, b_fc1, W_fc2, b_fc2, ]\n",
        "\n",
        "def train_step(x, y):\n",
        "    with tf.GradientTape() as tape:\n",
        "        current_loss = cross_entropy( y, y_CNN( x ))\n",
        "        grads = tape.gradient( current_loss , variables )\n",
        "        optimizer.apply_gradients( zip( grads , variables ) )\n",
        "        return current_loss.numpy()\n"
      ],
      "execution_count": 38
    },
    {
      "cell_type": "code",
      "metadata": {
        "colab": {
          "base_uri": "https://localhost:8080/",
          "height": 53
        },
        "id": "bd37cccf-edc9-4ee0-a1df-03d353b5302f",
        "outputId": "ac9feacf-deb8-4fa8-cf57-67cbbb256205"
      },
      "outputs": [
        {
          "output_type": "execute_result",
          "data": {
            "text/plain": [
              "'results = []\\nincrement = 1000\\nfor start in range(0,60000,increment):\\n    s = tf.slice(x_image_train,[start,0,0,0],[start+increment-1, 28, 28, 1])\\n    t = y_CNN(s)\\n    #results.append(t)\\n'"
            ],
            "application/vnd.google.colaboratory.intrinsic+json": {
              "type": "string"
            }
          },
          "metadata": {},
          "execution_count": 39
        }
      ],
      "source": [
        "\"\"\"results = []\n",
        "increment = 1000\n",
        "for start in range(0,60000,increment):\n",
        "    s = tf.slice(x_image_train,[start,0,0,0],[start+increment-1, 28, 28, 1])\n",
        "    t = y_CNN(s)\n",
        "    #results.append(t)\n",
        "\"\"\""
      ],
      "execution_count": 39
    },
    {
      "cell_type": "markdown",
      "metadata": {
        "id": "b8458c68-46c6-4b94-8791-f12ff3753915"
      },
      "source": [
        "<h4>Define prediction</h4>\n",
        "Do you want to know how many of the cases in a mini-batch has been classified correctly? lets count them.\n"
      ]
    },
    {
      "cell_type": "code",
      "metadata": {
        "id": "bd8aa36f-d745-4326-a079-161de5628a5c"
      },
      "outputs": [],
      "source": [
        "correct_prediction = tf.equal(tf.argmax(y_CNN(x_image_train), axis=1), tf.argmax(y_train, axis=1))"
      ],
      "execution_count": 40
    },
    {
      "cell_type": "markdown",
      "metadata": {
        "id": "812d3b2c-2d17-491c-904e-411d7ebd95b5"
      },
      "source": [
        "<h4>Define accuracy</h4>\n",
        "It makes more sense to report accuracy using average of correct cases.\n"
      ]
    },
    {
      "cell_type": "code",
      "metadata": {
        "id": "4280dae1-73f8-42d9-ac04-f116ead62411"
      },
      "outputs": [],
      "source": [
        "accuracy = tf.reduce_mean(tf.cast(correct_prediction, 'float32'))"
      ],
      "execution_count": 41
    },
    {
      "cell_type": "markdown",
      "metadata": {
        "id": "7c8b8340-3b37-403d-b0fc-69862880382c"
      },
      "source": [
        "<h4>Run session, train</h4>\n"
      ]
    },
    {
      "cell_type": "markdown",
      "metadata": {
        "id": "a2328f6e-112a-4c7d-8876-d5cad5a4c213"
      },
      "source": [
        "<i>If you want a fast result (<b>it might take sometime to train it</b>)</i>\n"
      ]
    },
    {
      "cell_type": "code",
      "metadata": {
        "colab": {
          "base_uri": "https://localhost:8080/"
        },
        "id": "73b670c2-59e0-426d-9da6-1074833004f6",
        "outputId": "bb7e54c5-4efe-4681-8050-a99764450322"
      },
      "outputs": [
        {
          "output_type": "stream",
          "name": "stdout",
          "text": [
            "epoch  0 batch 50 loss: 154.50816 accuracy 0.5\n",
            "epoch  0 batch 100 loss: 58.33962 accuracy 0.7\n",
            "epoch  0 batch 150 loss: 36.446125 accuracy 0.78\n",
            "epoch  0 batch 200 loss: 25.73916 accuracy 0.88\n",
            "epoch  0 batch 250 loss: 30.572227 accuracy 0.78\n",
            "epoch  0 batch 300 loss: 28.703283 accuracy 0.78\n",
            "epoch  0 batch 350 loss: 27.007946 accuracy 0.82\n",
            "epoch  0 batch 400 loss: 12.856405 accuracy 0.88\n",
            "epoch  0 batch 450 loss: 40.085327 accuracy 0.76\n",
            "epoch  0 batch 500 loss: 16.97845 accuracy 0.9\n",
            "epoch  0 batch 550 loss: 11.570019 accuracy 0.84\n",
            "epoch  0 batch 600 loss: 14.423307 accuracy 0.88\n",
            "epoch  0 batch 650 loss: 14.210288 accuracy 0.9\n",
            "epoch  0 batch 700 loss: 8.413368 accuracy 0.94\n",
            "epoch  0 batch 750 loss: 30.074175 accuracy 0.84\n",
            "epoch  0 batch 800 loss: 17.833307 accuracy 0.9\n",
            "epoch  0 batch 850 loss: 11.157383 accuracy 0.92\n",
            "epoch  0 batch 900 loss: 13.023453 accuracy 0.96\n",
            "epoch  0 batch 950 loss: 16.151667 accuracy 0.92\n",
            "epoch  0 batch 1000 loss: 9.621422 accuracy 0.94\n",
            "epoch  0 batch 1050 loss: 4.887309 accuracy 1.0\n",
            "epoch  0 batch 1100 loss: 14.219425 accuracy 0.9\n",
            "epoch  0 batch 1150 loss: 13.267934 accuracy 0.92\n",
            "epoch  0 batch 1200 loss: 4.720375 accuracy 1.0\n",
            "end of epoch  0 loss 1927.9908 accuracy 0.9417\n"
          ]
        }
      ],
      "source": [
        "loss_values=[]\n",
        "accuracies = []\n",
        "epochs = 1\n",
        "\n",
        "for i in range(epochs):\n",
        "    j=0\n",
        "    # each batch has 50 examples\n",
        "    for x_train_batch, y_train_batch in train_ds2:\n",
        "        j+=1\n",
        "        current_loss = train_step(x_train_batch, y_train_batch)\n",
        "        if j%50==0: #reporting intermittent batch statistics\n",
        "            correct_prediction = tf.equal(tf.argmax(y_CNN(x_train_batch), axis=1),\n",
        "                                  tf.argmax(y_train_batch, axis=1))\n",
        "            #  accuracy\n",
        "            accuracy = tf.reduce_mean(tf.cast(correct_prediction, tf.float32)).numpy()\n",
        "            print(\"epoch \", str(i), \"batch\", str(j), \"loss:\", str(current_loss),\n",
        "                     \"accuracy\", str(accuracy))\n",
        "\n",
        "    current_loss = cross_entropy( y_train, y_CNN( x_image_train )).numpy()\n",
        "    loss_values.append(current_loss)\n",
        "    correct_prediction = tf.equal(tf.argmax(y_CNN(x_image_train), axis=1),\n",
        "                                  tf.argmax(y_train, axis=1))\n",
        "    #  accuracy\n",
        "    accuracy = tf.reduce_mean(tf.cast(correct_prediction, tf.float32)).numpy()\n",
        "    accuracies.append(accuracy)\n",
        "    print(\"end of epoch \", str(i), \"loss\", str(current_loss), \"accuracy\", str(accuracy) )"
      ],
      "execution_count": 42
    },
    {
      "cell_type": "markdown",
      "metadata": {
        "id": "3dc14a04-cca0-4926-b8ed-a39e959a3ec0"
      },
      "source": [
        "<div class=\"alert alert-success alertsuccess\" style=\"margin-top: 20px\">\n",
        "<font size = 3><strong><i>Wow...95% accuracy after only 1 epoch!  You can increase the number of epochs in the previsous cell if you REALLY have time to wait, or you are running it using PowerAI (<b>change the type of the cell to code</b>)</i></strong></font>\n"
      ]
    },
    {
      "cell_type": "markdown",
      "metadata": {
        "id": "06aef4a9-b30e-495d-8db0-a6b0583effe4"
      },
      "source": [
        "<i>PS. If you have problems running this notebook, please shutdown all your Jupyter runnning notebooks, clear all cells outputs and run each cell only after the completion of the previous cell.</i>\n"
      ]
    },
    {
      "cell_type": "markdown",
      "metadata": {
        "id": "ba9cbf89-95e7-417b-965a-d32111d225cb"
      },
      "source": [
        "<hr>\n"
      ]
    },
    {
      "cell_type": "markdown",
      "metadata": {
        "id": "3bcf15f5-f345-4970-9279-138aba34b168"
      },
      "source": [
        "<a id=\"ref9\"></a>\n",
        "<h2>Evaluate the model</h2>\n"
      ]
    },
    {
      "cell_type": "markdown",
      "metadata": {
        "id": "41b74317-4cd3-42a3-8e59-20725c88e310"
      },
      "source": [
        "Print the evaluation to the user\n"
      ]
    },
    {
      "cell_type": "code",
      "metadata": {
        "colab": {
          "base_uri": "https://localhost:8080/"
        },
        "id": "596ba861-79d0-4aff-9020-01ae50349148",
        "outputId": "d8ada9c8-679f-45f8-af2d-fe1acc2c2339"
      },
      "outputs": [
        {
          "output_type": "stream",
          "name": "stdout",
          "text": [
            "batch 100 accuracy 0.96\n",
            "batch 200 accuracy 0.98\n",
            "batch 300 accuracy 0.94\n",
            "batch 400 accuracy 1.0\n",
            "batch 500 accuracy 0.94\n",
            "batch 600 accuracy 0.94\n",
            "batch 700 accuracy 0.98\n",
            "batch 800 accuracy 0.94\n",
            "batch 900 accuracy 0.92\n",
            "batch 1000 accuracy 0.94\n",
            "batch 1100 accuracy 0.88\n",
            "batch 1200 accuracy 0.94\n",
            "accuracy of entire set 0.9417\n"
          ]
        }
      ],
      "source": [
        "j=0\n",
        "acccuracies=[]\n",
        "# evaluate accuracy by batch and average...reporting every 100th batch\n",
        "for x_train_batch, y_train_batch in train_ds2:\n",
        "        j+=1\n",
        "        correct_prediction = tf.equal(tf.argmax(y_CNN(x_train_batch), axis=1),\n",
        "                                  tf.argmax(y_train_batch, axis=1))\n",
        "        accuracy = tf.reduce_mean(tf.cast(correct_prediction, tf.float32)).numpy()\n",
        "        #accuracies.append(accuracy)\n",
        "        if j%100==0:\n",
        "            print(\"batch\", str(j), \"accuracy\", str(accuracy) )\n",
        "import numpy as np\n",
        "print(\"accuracy of entire set\", str(np.mean(accuracies)))"
      ],
      "execution_count": 43
    },
    {
      "cell_type": "markdown",
      "metadata": {
        "id": "cee68532-0fee-4421-90b9-6d30782d4566"
      },
      "source": [
        "<h3>Visualization</h3>\n"
      ]
    },
    {
      "cell_type": "markdown",
      "metadata": {
        "id": "c0e98837-7803-47d7-a730-65c6a16b0f01"
      },
      "source": [
        "Do you want to look at all the filters?\n"
      ]
    },
    {
      "cell_type": "code",
      "metadata": {
        "id": "3859acd8-2eb1-4069-8512-a2d0de5af549"
      },
      "outputs": [],
      "source": [
        "kernels = tf.reshape(tf.transpose(W_conv1, perm=[2, 3, 0,1]),[32, -1])"
      ],
      "execution_count": 48
    },
    {
      "cell_type": "code",
      "metadata": {
        "colab": {
          "base_uri": "https://localhost:8080/",
          "height": 870
        },
        "id": "9b635d99-9319-4407-a79c-8c816763b4ee",
        "outputId": "e0d0e490-e5e5-492b-e91d-d5c983cfc5fe"
      },
      "outputs": [
        {
          "output_type": "stream",
          "name": "stdout",
          "text": [
            "--2023-07-02 09:49:26--  https://cf-courses-data.s3.us.cloud-object-storage.appdomain.cloud/IBMDeveloperSkillsNetwork-DL0120EN-SkillsNetwork/labs/Week2/data/utils.py\n",
            "Resolving cf-courses-data.s3.us.cloud-object-storage.appdomain.cloud (cf-courses-data.s3.us.cloud-object-storage.appdomain.cloud)... 169.45.118.108\n",
            "Connecting to cf-courses-data.s3.us.cloud-object-storage.appdomain.cloud (cf-courses-data.s3.us.cloud-object-storage.appdomain.cloud)|169.45.118.108|:443... connected.\n",
            "HTTP request sent, awaiting response... 200 OK\n",
            "Length: 5097 (5.0K) [text/x-python]\n",
            "Saving to: ‘utils1.py’\n",
            "\n",
            "utils1.py           100%[===================>]   4.98K  --.-KB/s    in 0s      \n",
            "\n",
            "2023-07-02 09:49:27 (758 MB/s) - ‘utils1.py’ saved [5097/5097]\n",
            "\n"
          ]
        },
        {
          "output_type": "display_data",
          "data": {
            "text/plain": [
              "<Figure size 1800x1800 with 1 Axes>"
            ],
            "image/png": "[encoded data removed]"
          },
          "metadata": {}
        }
      ],
      "source": [
        "!wget --output-document utils1.py https://cf-courses-data.s3.us.cloud-object-storage.appdomain.cloud/IBMDeveloperSkillsNetwork-DL0120EN-SkillsNetwork/labs/Week2/data/utils.py\n",
        "import utils1\n",
        "import imp\n",
        "imp.reload(utils1)\n",
        "from utils1 import tile_raster_images\n",
        "import matplotlib.pyplot as plt\n",
        "from PIL import Image\n",
        "%matplotlib inline\n",
        "image = Image.fromarray(tile_raster_images(kernels.numpy(), img_shape=(5, 5) ,tile_shape=(4, 8), tile_spacing=(1, 1)))\n",
        "### Plot image\n",
        "plt.rcParams['figure.figsize'] = (18.0, 18.0)\n",
        "imgplot = plt.imshow(image)\n",
        "imgplot.set_cmap('gray')"
      ],
      "execution_count": 49
    },
    {
      "cell_type": "markdown",
      "metadata": {
        "id": "ed1391a7-11e6-45a1-8dfb-0b9b276dacdf"
      },
      "source": [
        "Do you want to see the output of an image passing through first convolution layer?\n"
      ]
    },
    {
      "cell_type": "code",
      "metadata": {
        "colab": {
          "base_uri": "https://localhost:8080/",
          "height": 462
        },
        "id": "e4d4d042-f16a-44bf-b6b1-5617499e4e18",
        "outputId": "a775e8b4-f9af-4aa2-8cc6-9d65cd139271"
      },
      "outputs": [
        {
          "output_type": "execute_result",
          "data": {
            "text/plain": [
              "<matplotlib.image.AxesImage at 0x7f42321ae7a0>"
            ]
          },
          "metadata": {},
          "execution_count": 50
        },
        {
          "output_type": "display_data",
          "data": {
            "text/plain": [
              "<Figure size 500x500 with 1 Axes>"
            ],
            "image/png": "[encoded data removed]"
          },
          "metadata": {}
        }
      ],
      "source": [
        "import numpy as np\n",
        "plt.rcParams['figure.figsize'] = (5.0, 5.0)\n",
        "sampleimage = [x_image_train[0]]\n",
        "plt.imshow(np.reshape(sampleimage,[28,28]), cmap=\"gray\")"
      ],
      "execution_count": 50
    },
    {
      "cell_type": "code",
      "metadata": {
        "id": "9dd04143-7025-4653-b072-5e16d0e5e113"
      },
      "outputs": [],
      "source": [
        "#ActivatedUnits = sess.run(convolve1,feed_dict={x:np.reshape(sampleimage,[1,784],order='F'),keep_prob:1.0})\n",
        "keep_prob=1.0\n",
        "ActivatedUnits = convolve1(sampleimage)\n",
        "\n",
        "filters = ActivatedUnits.shape[3]\n",
        "plt.figure(1, figsize=(20,20))\n",
        "n_columns = 6\n",
        "n_rows = np.math.ceil(filters / n_columns) + 1\n",
        "for i in range(filters):\n",
        "    plt.subplot(n_rows, n_columns, i+1)\n",
        "    plt.title('Filter ' + str(i))\n",
        "    plt.imshow(ActivatedUnits[0,:,:,i], interpolation=\"nearest\", cmap=\"gray\")"
      ],
      "execution_count": null
    },
    {
      "cell_type": "markdown",
      "metadata": {
        "id": "f216800b-018c-4a0d-a95f-c384e4d3d804"
      },
      "source": [
        "What about second convolution layer?\n"
      ]
    },
    {
      "cell_type": "code",
      "metadata": {
        "id": "7b753b63-fd44-4f39-8528-dffb2622d3c4"
      },
      "outputs": [],
      "source": [
        "#ActivatedUnits = sess.run(convolve2,feed_dict={x:np.reshape(sampleimage,[1,784],order='F'),keep_prob:1.0})\n",
        "ActivatedUnits = convolve2(sampleimage)\n",
        "filters = ActivatedUnits.shape[3]\n",
        "plt.figure(1, figsize=(20,20))\n",
        "n_columns = 8\n",
        "n_rows = np.math.ceil(filters / n_columns) + 1\n",
        "for i in range(filters):\n",
        "    plt.subplot(n_rows, n_columns, i+1)\n",
        "    plt.title('Filter ' + str(i))\n",
        "    plt.imshow(ActivatedUnits[0,:,:,i], interpolation=\"nearest\", cmap=\"gray\")"
      ],
      "execution_count": null
    },
    {
      "cell_type": "markdown",
      "metadata": {
        "id": "3961fe50-4096-4799-a565-a7248fef6910"
      },
      "source": [
        "## Want to learn more?\n",
        "\n",
        "Also, you can use __Watson Studio__ to run these notebooks faster with bigger datasets.__Watson Studio__ is IBM’s leading cloud solution for data scientists, built by data scientists. With Jupyter notebooks, RStudio, Apache Spark, and NVIDIA GPU accelerated hardware environemnts, as well as and popular libraries pre-packaged in the cloud, __Watson Studio__ enables data scientists to collaborate on their projects without having to install anything. Join the fast-growing community of __Watson Studio__ users today with a free account at [Watson Studio](https://cocl.us/ML0120EN_DSX).This is the end of this lesson. Thank you for reading this notebook, and good luck on your studies.\n"
      ]
    },
    {
      "cell_type": "markdown",
      "metadata": {
        "id": "cd6f4076-a2a8-477c-bbe3-eb72a9fccfab"
      },
      "source": [
        "### Thanks for completing this lesson!\n"
      ]
    },
    {
      "cell_type": "markdown",
      "metadata": {
        "id": "c99eba0f-15aa-41b2-af09-eee7b31225cd"
      },
      "source": [
        "Created by <a href=\"https://linkedin.com/in/saeedaghabozorgi?utm_medium=Exinfluencer&utm_source=Exinfluencer&utm_content=000026UJ&utm_term=10006555&utm_id=NA-SkillsNetwork-Channel-SkillsNetworkCoursesIBMDeveloperSkillsNetworkDL0120ENSkillsNetwork954-2023-01-01\"> Saeed Aghabozorgi </a>, <a href=\"https://linkedin.com/in/luisotsm?utm_medium=Exinfluencer&utm_source=Exinfluencer&utm_content=000026UJ&utm_term=10006555&utm_id=NA-SkillsNetwork-Channel-SkillsNetworkCoursesIBMDeveloperSkillsNetworkDL0120ENSkillsNetwork954-2023-01-01\">Luis Otavio Silveira Martins</a>, <a href=\"https://linkedin.com/in/erich-natsubori-sato?utm_medium=Exinfluencer&utm_source=Exinfluencer&utm_content=000026UJ&utm_term=10006555&utm_id=NA-SkillsNetwork-Channel-SkillsNetworkCoursesIBMDeveloperSkillsNetworkDL0120ENSkillsNetwork954-2023-01-01\"> Erich Natsubori Sato </a></h4>\n",
        "\n",
        "Updated to TF 2.X by  <a href=\"https://ca.linkedin.com/in/nilmeier?utm_medium=Exinfluencer&utm_source=Exinfluencer&utm_content=000026UJ&utm_term=10006555&utm_id=NA-SkillsNetwork-Channel-SkillsNetworkCoursesIBMDeveloperSkillsNetworkDL0120ENSkillsNetwork954-2023-01-01\"> Jerome Nilmeier</a><br />\n"
      ]
    },
    {
      "cell_type": "markdown",
      "metadata": {
        "id": "eab963d9-6e30-4dca-9a98-0d4b02aac94c"
      },
      "source": [
        "### References:\n",
        "\n",
        "https://en.wikipedia.org/wiki/Deep_learning    \n",
        "http://ruder.io/optimizing-gradient-descent/<br>\n",
        "http://yann.lecun.com/exdb/mnist/  \n",
        "https://www.quora.com/Artificial-Neural-Networks-What-is-the-difference-between-activation-functions  \n",
        "https://www.tensorflow.org/versions/r0.9/tutorials/mnist/pros/index.html  \n"
      ]
    },
    {
      "cell_type": "markdown",
      "metadata": {
        "id": "904a503f-eb3e-40fc-9252-333d0e0c7f3f"
      },
      "source": [
        "<hr>\n",
        "\n",
        "Copyright &copy; 2018 [Cognitive Class](https://cocl.us/DX0108EN_CC). This notebook and its source code are released under the terms of the [MIT License](https://bigdatauniversity.com/mit-license/?utm_medium=Exinfluencer&utm_source=Exinfluencer&utm_content=000026UJ&utm_term=10006555&utm_id=NA-SkillsNetwork-Channel-SkillsNetworkCoursesIBMDeveloperSkillsNetworkDL0120ENSkillsNetwork954-2023-01-01).\n"
      ]
    }
  ],
  "metadata": {
    "kernelspec": {
      "display_name": "Python",
      "language": "python",
      "name": "conda-env-python-py"
    },
    "language_info": {
      "name": ""
    },
    "colab": {
      "provenance": [],
      "include_colab_link": true
    }
  },
  "nbformat": 4,
  "nbformat_minor": 0
}